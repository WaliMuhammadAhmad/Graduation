{
  "nbformat": 4,
  "nbformat_minor": 0,
  "metadata": {
    "colab": {
      "provenance": [],
      "authorship_tag": "ABX9TyMuYTIjun3wSFIwfsaXTMN0",
      "include_colab_link": true
    },
    "kernelspec": {
      "name": "python3",
      "display_name": "Python 3"
    },
    "language_info": {
      "name": "python"
    }
  },
  "cells": [
    {
      "cell_type": "markdown",
      "metadata": {
        "id": "view-in-github",
        "colab_type": "text"
      },
      "source": [
        "<a href=\"https://colab.research.google.com/github/WaliMuhammadAhmad/7thSemester/blob/main/NLP/ToDo2/ToDo2.ipynb\" target=\"_parent\"><img src=\"https://colab.research.google.com/assets/colab-badge.svg\" alt=\"Open In Colab\"/></a>"
      ]
    },
    {
      "cell_type": "code",
      "execution_count": null,
      "metadata": {
        "id": "WZp-MkQKpKwQ"
      },
      "outputs": [],
      "source": [
        "import re"
      ]
    },
    {
      "cell_type": "code",
      "source": [
        "para = '''\n",
        "Regular expressions (called REs, or regexes, or regex patterns) are essentially a tiny, highly specialized programming language embedded inside Python and made available through the re module. Using this little language, you specify the rules for the set of possible strings that you want to match; this set might contain English sentences, or e-mail addresses, or TeX commands, or anything you like. You can then ask questions such as “Does this string match the pattern?”, or “Is there a match for the pattern anywhere in this string?”. You can also use REs to modify a string or to split it apart in various ways.\n",
        "Regular expression patterns are compiled into a series of bytecodes which are then executed by a matching engine written in C. For advanced use, it may be necessary to pay careful attention to how the engine will execute a given RE, and write the RE in a certain way in order to produce bytecode that runs faster. Optimization isn’t covered in this document, because it requires that you have a good understanding of the matching engine’s internals.\n",
        "The regular expression language is relatively small and restricted, so not all possible string processing tasks can be done using regular expressions. There are also tasks that can be done with regular expressions, but the expressions turn out to be very complicated. In these cases, you may be better off writing Python code to do the processing; while Python code will be slower than an elaborate regular expression, it will also probably be more understandable.\n",
        "'''"
      ],
      "metadata": {
        "id": "sn7jBKqgpN6l"
      },
      "execution_count": null,
      "outputs": []
    },
    {
      "cell_type": "code",
      "source": [
        "match = re.findall(r'Python', para)\n",
        "print(match)"
      ],
      "metadata": {
        "colab": {
          "base_uri": "https://localhost:8080/"
        },
        "id": "_XWwbGKhpiiv",
        "outputId": "0881182d-4fd7-47b9-ff08-f793f55057d3"
      },
      "execution_count": null,
      "outputs": [
        {
          "output_type": "stream",
          "name": "stdout",
          "text": [
            "['Python', 'Python', 'Python']\n"
          ]
        }
      ]
    },
    {
      "cell_type": "code",
      "source": [
        "match = re.search(r'\\ba\\b', para)\n",
        "print(match)"
      ],
      "metadata": {
        "colab": {
          "base_uri": "https://localhost:8080/"
        },
        "id": "XPiX0CLDqIXi",
        "outputId": "47d3bca1-baf0-4825-b65e-da1f6b7b1032"
      },
      "execution_count": null,
      "outputs": [
        {
          "output_type": "stream",
          "name": "stdout",
          "text": [
            "<re.Match object; span=(81, 82), match='a'>\n"
          ]
        }
      ]
    },
    {
      "cell_type": "code",
      "source": [
        "match = re.search(r'\\Bre\\B', para)\n",
        "print(match)"
      ],
      "metadata": {
        "colab": {
          "base_uri": "https://localhost:8080/"
        },
        "id": "xM5CKrVgqagU",
        "outputId": "9763969d-2c0e-4ae5-99b5-f00e99ebc01a"
      },
      "execution_count": null,
      "outputs": [
        {
          "output_type": "execute_result",
          "data": {
            "text/plain": [
              "<re.Match object; span=(12, 14), match='re'>"
            ]
          },
          "metadata": {},
          "execution_count": 28
        }
      ]
    },
    {
      "cell_type": "code",
      "source": [
        "re.findall(r'\\b[A-Z]', para)"
      ],
      "metadata": {
        "colab": {
          "base_uri": "https://localhost:8080/"
        },
        "id": "9KlMIEgcrWon",
        "outputId": "5bf25aa8-56b9-482d-c5ef-4d262c7223f9"
      },
      "execution_count": null,
      "outputs": [
        {
          "output_type": "execute_result",
          "data": {
            "text/plain": [
              "['R',\n",
              " 'R',\n",
              " 'P',\n",
              " 'U',\n",
              " 'E',\n",
              " 'T',\n",
              " 'Y',\n",
              " 'D',\n",
              " 'I',\n",
              " 'Y',\n",
              " 'R',\n",
              " 'R',\n",
              " 'C',\n",
              " 'F',\n",
              " 'R',\n",
              " 'R',\n",
              " 'O',\n",
              " 'T',\n",
              " 'T',\n",
              " 'I',\n",
              " 'P',\n",
              " 'P']"
            ]
          },
          "metadata": {},
          "execution_count": 27
        }
      ]
    },
    {
      "cell_type": "code",
      "source": [
        "re.match(r'Regular', para)"
      ],
      "metadata": {
        "id": "PqRtTeHqqnVH"
      },
      "execution_count": null,
      "outputs": []
    },
    {
      "cell_type": "code",
      "source": [
        "if re.match(r'Python', para):\n",
        "    print(\"Paragraph starts with 'Python'\")\n",
        "else:\n",
        "    print(\"Paragraph does not start with 'Python'\")"
      ],
      "metadata": {
        "colab": {
          "base_uri": "https://localhost:8080/"
        },
        "id": "SO2nbTaVq8LL",
        "outputId": "88e9ede5-a19e-434d-b0c5-b5fbb9741dd0"
      },
      "execution_count": null,
      "outputs": [
        {
          "output_type": "stream",
          "name": "stdout",
          "text": [
            "Paragraph does not start with 'Python'\n"
          ]
        }
      ]
    },
    {
      "cell_type": "code",
      "source": [
        "re.split(r'\\.', para)"
      ],
      "metadata": {
        "colab": {
          "base_uri": "https://localhost:8080/"
        },
        "id": "b8g-dVlErOXY",
        "outputId": "3f8521fb-d73d-455a-ef44-47760b8b0f62"
      },
      "execution_count": null,
      "outputs": [
        {
          "output_type": "execute_result",
          "data": {
            "text/plain": [
              "['\\nRegular expressions (called REs, or regexes, or regex patterns) are essentially a tiny, highly specialized programming language embedded inside Python and made available through the re module',\n",
              " ' Using this little language, you specify the rules for the set of possible strings that you want to match; this set might contain English sentences, or e-mail addresses, or TeX commands, or anything you like',\n",
              " ' You can then ask questions such as “Does this string match the pattern?”, or “Is there a match for the pattern anywhere in this string?”',\n",
              " ' You can also use REs to modify a string or to split it apart in various ways',\n",
              " '\\nRegular expression patterns are compiled into a series of bytecodes which are then executed by a matching engine written in C',\n",
              " ' For advanced use, it may be necessary to pay careful attention to how the engine will execute a given RE, and write the RE in a certain way in order to produce bytecode that runs faster',\n",
              " ' Optimization isn’t covered in this document, because it requires that you have a good understanding of the matching engine’s internals',\n",
              " '\\nThe regular expression language is relatively small and restricted, so not all possible string processing tasks can be done using regular expressions',\n",
              " ' There are also tasks that can be done with regular expressions, but the expressions turn out to be very complicated',\n",
              " ' In these cases, you may be better off writing Python code to do the processing; while Python code will be slower than an elaborate regular expression, it will also probably be more understandable',\n",
              " '\\n']"
            ]
          },
          "metadata": {},
          "execution_count": 25
        }
      ]
    },
    {
      "cell_type": "markdown",
      "source": [
        "email check"
      ],
      "metadata": {
        "id": "wGBzpaWPrzYp"
      }
    },
    {
      "cell_type": "code",
      "source": [
        "# Sample text with email addresses\n",
        "email_text = \"Contact us at support@example.com or sales@company.org.\"\n",
        "\n",
        "# Find all email addresses\n",
        "emails = re.findall(r'\\b\\w+@\\w+\\.\\w+\\b', email_text)\n",
        "print(\"Email addresses found:\", emails)"
      ],
      "metadata": {
        "colab": {
          "base_uri": "https://localhost:8080/"
        },
        "id": "sH_1A_Y4rcmL",
        "outputId": "b79da9f0-f8ec-4051-9762-b1de7f00d73d"
      },
      "execution_count": null,
      "outputs": [
        {
          "output_type": "stream",
          "name": "stdout",
          "text": [
            "Email addresses found: ['support@example.com', 'sales@company.org']\n"
          ]
        }
      ]
    }
  ]
}