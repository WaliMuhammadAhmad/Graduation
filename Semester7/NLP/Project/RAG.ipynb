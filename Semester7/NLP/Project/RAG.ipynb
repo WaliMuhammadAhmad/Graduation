{
  "cells": [
    {
      "cell_type": "markdown",
      "metadata": {
        "id": "view-in-github",
        "colab_type": "text"
      },
      "source": [
        "<a href=\"https://colab.research.google.com/github/WaliMuhammadAhmad/7thSemester/blob/main/NLP/Project/RAG.ipynb\" target=\"_parent\"><img src=\"https://colab.research.google.com/assets/colab-badge.svg\" alt=\"Open In Colab\"/></a>"
      ]
    },
    {
      "cell_type": "code",
      "execution_count": 1,
      "metadata": {
        "id": "qrin9AbZV3G8"
      },
      "outputs": [],
      "source": [
        "%pip install -qU langchain-mistralai tiktoken unstructured langchain_community jq langchain-core langgraph>0.2.27"
      ]
    },
    {
      "cell_type": "code",
      "execution_count": 2,
      "metadata": {
        "id": "wALHKEBLWykW"
      },
      "outputs": [],
      "source": [
        "import os\n",
        "import json\n",
        "import getpass\n",
        "import tiktoken\n",
        "from pathlib import Path\n",
        "from pprint import pprint\n",
        "from langchain_community.document_loaders import JSONLoader\n",
        "from langchain_community.document_loaders import DirectoryLoader\n",
        "from langchain_mistralai import ChatMistralAI\n",
        "from langchain_core.messages import HumanMessage\n",
        "from google.colab import userdata"
      ]
    },
    {
      "cell_type": "code",
      "execution_count": 3,
      "metadata": {
        "id": "QWGEZyswWkYU"
      },
      "outputs": [],
      "source": [
        "os.environ[\"LANGCHAIN_TRACING_V2\"] = \"true\"\n",
        "os.environ[\"LANGCHAIN_API_KEY\"] = userdata.get('LangSmith')\n",
        "os.environ[\"MISTRAL_API_KEY\"] = userdata.get('MistralAPI')"
      ]
    },
    {
      "cell_type": "code",
      "execution_count": 4,
      "metadata": {
        "id": "z56NxUdXXyJf"
      },
      "outputs": [],
      "source": [
        "model = ChatMistralAI(model=\"mistral-large-latest\")"
      ]
    },
    {
      "cell_type": "code",
      "execution_count": 5,
      "metadata": {
        "colab": {
          "base_uri": "https://localhost:8080/",
          "height": 35
        },
        "id": "Y0HUGlw4X6HO",
        "outputId": "6629da00-607d-480b-e3fe-5039760597ca"
      },
      "outputs": [
        {
          "output_type": "execute_result",
          "data": {
            "text/plain": [
              "'I am a language model trained by the Mistral AI team.'"
            ],
            "application/vnd.google.colaboratory.intrinsic+json": {
              "type": "string"
            }
          },
          "metadata": {},
          "execution_count": 5
        }
      ],
      "source": [
        "r= model.invoke([HumanMessage(content=\"Who are you?\")])\n",
        "r.content"
      ]
    },
    {
      "cell_type": "code",
      "execution_count": 6,
      "metadata": {
        "colab": {
          "base_uri": "https://localhost:8080/"
        },
        "id": "aFq-U6I0YArd",
        "outputId": "5a57a38c-ab95-41ae-cf3e-1f8f20c6fcdf"
      },
      "outputs": [
        {
          "output_type": "execute_result",
          "data": {
            "text/plain": [
              "{'prompt_tokens': 7, 'total_tokens': 20, 'completion_tokens': 13}"
            ]
          },
          "metadata": {},
          "execution_count": 6
        }
      ],
      "source": [
        "r.response_metadata['token_usage']"
      ]
    },
    {
      "cell_type": "code",
      "execution_count": 82,
      "metadata": {
        "colab": {
          "base_uri": "https://localhost:8080/"
        },
        "id": "r2JZzh43mife",
        "outputId": "eecdd8c4-3960-4fab-9799-2d9c58e2f922"
      },
      "outputs": [
        {
          "output_type": "execute_result",
          "data": {
            "text/plain": [
              "['Verification and Tracking.json',\n",
              " 'Services.json',\n",
              " 'Location.json',\n",
              " 'Home.json']"
            ]
          },
          "metadata": {},
          "execution_count": 82
        }
      ],
      "source": [
        "f = [file for file in os.listdir('./') if file.endswith('.json')]\n",
        "f"
      ]
    },
    {
      "cell_type": "markdown",
      "metadata": {
        "id": "xrad9ueAYvaI"
      },
      "source": [
        "# Load JSON"
      ]
    },
    {
      "cell_type": "code",
      "execution_count": 9,
      "metadata": {
        "id": "ReY9nQtnbFwj"
      },
      "outputs": [],
      "source": [
        "file_path=os.path.join('./', f[0])\n",
        "data = json.loads(Path(file_path).read_text())"
      ]
    },
    {
      "cell_type": "code",
      "execution_count": 10,
      "metadata": {
        "id": "L2uDMzRSbLca"
      },
      "outputs": [],
      "source": [
        "# pprint(data)"
      ]
    },
    {
      "cell_type": "code",
      "execution_count": 16,
      "metadata": {
        "id": "BW20c1NTZunw",
        "colab": {
          "base_uri": "https://localhost:8080/"
        },
        "outputId": "c8484a0e-e250-436c-a1a9-78bc90cf8216"
      },
      "outputs": [
        {
          "output_type": "execute_result",
          "data": {
            "text/plain": [
              "[Document(metadata={'source': '/content/Services.json', 'seq_num': 1}, page_content=\"[{'service_name': 'کریکٹر سرٹیفیکیٹ', 'description': 'با ہر کے ممالک جانے کے لیے، باہر کے مختلف اداروں میں ملازمت حاصل کرنے کےلیے اور وطن بدلی کے لیے پولیس کریکٹر سرٹیفیکیٹ کی ضرورت پڑتی ہے۔', 'required_documents': ['3 پاسپورٹ سایز تصاویر (ہلکے نیلے رنگ کا بیک گراوَنڈ، غیر مصدقہ)', 'شناختی کارڈ اصلی', 'شناختی کارڈ کی دو کاپیاں (گزیٹیڈ افسر سے مصدقہ)', 'اصلی پاسپورٹ', 'پاسپورٹ کی ایک کاپی (گزیٹیڈ افسر سے مصدقہ)', '50 روپیہ کا حلف نامہ (عہدیدار کمشنر سے تصدیق شدہ)', 'اختیار نامہ (اگر درخواست دہندہ ملک سے باہر ہے)'], 'processing_fee': '500 روپے', 'processing_time': '5 سرکاری دن', 'delivery_method': 'کوریئر', 'notes': 'کریکٹر سرٹیفیکیٹ صرف امیدوار کے خود آنے پر ہی جمع کرایا جاتا ہے۔ اگر امیدوار ملک سے باہر ہو تو اس کی جگہ رشتہ دار اختیار نامہ کے ساتھ درخواست دے سکتا ہے۔'}, {'service_name': 'پولیس ویریفیکیشن', 'description': 'پاکستان کے مختلف اداروں میں ملازمت کی درخواست کے لیے پولیس ریکارڈ کی عمومی تصدیق ضروری ہوتی ہے۔', 'required_documents': ['اصلی شناختی کارڈ', 'شناختی کارڈ کی دو کاپیاں'], 'processing_fee': '300 روپے', 'processing_time': '5 سرکاری دن', 'delivery_method': 'کوریئر'}, {'service_name': 'لرنرز ڈرایئونگ لائسنس', 'description': 'شہری کسی بھی پی کے ایم سے لرنرز ڈرایئونگ لائسنس حاصل کر سکتے ہیں۔', 'required_documents': ['اصلی شناختی کارڈ بمع ایک کاپی', 'ٹریفک قوایئد و قوانین کی کتاب', 'میڈیکل سرٹیفیکیٹ (50 سال سے بڑے امیدواروں کے لیے)'], 'age_limits': {'motorcycle_car': '18 سال', 'ltv_rickshaw_commercial_tractor': '21 سال'}, 'processing_fee': '60 روپے', 'processing_time': '15 منٹ', 'delivery_method': 'موقع پر', 'notes': 'لرنرز پرمٹ روزانہ جاری ہوتے ہیں اور ان کی معیاد 2 مہینے ہوتی ہے۔'}, {'service_name': 'ڈرایئونگ لائسنس کی تجدید', 'description': 'شہری پولیس خدمت مرکز سے ڈرایئونگ لائسنس کی تجدید کے لئے درخواست جمع کروا سکتے ہیں۔', 'required_documents': ['ضروری درخواست فارم ای فایئل کور کے ساتھ', '2 عدد پاسپورٹ سایئز تصویریں', 'شناختی کارڈ کی کاپی', 'اصلی ڈرایئونگ لائسنس', 'میڈیکل سرٹیفیکیٹ (50 سال سے بڑے امیدواروں کے لیے)', 'متعلقہ لائسنس کا ٹکٹ'], 'processing_fee': {'motorcycle_rickshaw': '500 روپے', 'car_ltv': '750 روپے', 'htv': '2000 روپے'}, 'processing_time': '5 سرکاری دن', 'delivery_method': 'کوریئر'}, {'service_name': 'بین الاقوامی ڈرایئونگ لائسنس', 'description': 'شہری پولیس خدمت مرکز سے بین الاقوامی ڈرایئونگ لائسنس کےلئے درخواست جمع کروا سکتے ہیں۔', 'required_documents': ['بین الاقوامی درخواست فارم فایئل کور کے ساتھ', 'شناختی کارڈ کی تصدیق شدہ کاپی', 'لاہور سے حاصل کردہ اصلی ڈرایئونگ لائسنس کی کاپی', 'پاکستانی پاسپورٹ کی کاپی بمع 2 مہینہ کا ویزا', '2 عدد پاسپورٹ سایئز تصویریں (تصدیق شدہ)'], 'processing_fee': {'court': '66 روپے', 'challan': '450 روپے'}, 'processing_time': '5 سرکاری دن', 'delivery_method': 'کوریئر', 'notes': 'درخواست دہندہ اپنا اصلی شناختی کارڈ، ڈرایئونگ لائسنس اور پاسپورٹ ساتھ لاےَ گا/گی۔'}, {'service_name': 'نقل ڈرایئونگ لائسنس', 'description': 'شہری پولیس خدمت مرکز سے نقل ڈرایئونگ لائسنس کےلئے درخواست جمع کروا سکتے ہیں۔', 'required_documents': ['ضروری نقل درخواست فارم', 'شناختی کارڈ کی تصدیق شدہ کاپی', '2 عدد پاسپورٹ سایئز تصویریں', 'کمپیوٹر سیکشن سے کمپیوٹرائزڈ لائسنس رپورٹ', 'پولیس ایف آیَ آر', 'متعلقہ لائسنس کا ٹکٹ'], 'processing_fee': {'motorcycle': '100 روپے', 'car_ltv': '300 روپے', 'htv': '200 روپے'}, 'processing_time': '5 سرکاری دن', 'delivery_method': 'کوریئر'}, {'service_name': 'ملازم کی رجسٹریشن', 'description': 'کسی بھی گھریلو یا دیگر ملازم کو نوکری پر رکھتے وقت اس کا اندراج قریبی پولیس تھانے میں کروانا ہوتا ہے۔', 'required_documents': ['درخواست دہندہ کا اصلی شناختی کارڈ بمع 2 کاپیاں', 'ملازم کے شناختی کارڈ کی 2 کاپیاں', 'ملازم کی 2 عدد پاسپورٹ سایئز تصاویر', 'ایفیڈوڈ بمع 2 گواہوں کی تصدیق'], 'processing_fee': 'مفت', 'processing_time': '15 منٹ', 'delivery_method': 'موقع پر'}, {'service_name': 'کراےَ دار کی رجسٹریشن', 'description': 'گھر یا ہاسٹل کراےَ پر دینے کے لیے پولیس تھانے یا خدمت مرکز میں رجسٹریشن کرانا ضروری ہے۔', 'required_documents': ['مالک مکان کا شناختی کارڈ اور ایک کاپی', 'کراےَ دار کا شناختی کارڈ اور ایک کاپی', 'شٹامپ پیپر پر کراےَ کے معاہدہ کی کاپی'], 'processing_fee': 'مفت', 'processing_time': '15 منٹ', 'delivery_method': 'موقع پر'}, {'service_name': 'گاڑی کی تصدیق', 'description': 'گاڑی کی خرید و فروخت یا نقل و حمل سے قبل گاڑی کی تصدیق ضروری ہے۔', 'required_documents': ['شناختی کارڈ بمع دو کاپیاں', 'گاڑی کے اصل کاغذات اور ایک کاپی', 'گاڑی کے مالک کا کمپیوٹرائزڈ شناختی کارڈ', 'این او سی اگر گاڑی بینک کے نام پر ہے', 'ٹی پی میسج اور ٹرانسفر کاغذات اگر گاڑی بر آمد کی گیَ ہے'], 'processing_fee': {'motorcycle': '500 روپے', 'car_ltv_htv': '2000 روپے'}, 'processing_time': '30 منٹ', 'delivery_method': 'موقع پر'}, {'service_name': 'ڈرائیونگ لائسنس کی توثیق', 'description': 'شہری پولیس خدمت مرکز سے ڈرایئونگ لائسنس کی توثیق کے لئے درخواست جمع کروا سکتے ہیں۔', 'required_documents': ['ضروری درخواست فارم توثیق فایئل کور کے ساتھ', 'میڈیکل رپورٹ', 'شناختی کارڈ کی کاپی', '2 مصدقہ تازہ تصاویر', 'کم سے کم چھ ہفتے کا حقیقی لرنر پرمٹ', 'متعلقہ لائسنس کا ٹکٹ', 'پہلا لائسنس منسلک کیا جائے گا'], 'processing_fee': 'مفت', 'processing_time': '15 منٹ', 'delivery_method': 'موقع پر', 'notes': 'مزید تفصیل کے لئے برائے مہربانی ٹریفک پولیس انکوائری آفس سے رابطہ کریں۔'}, {'service_name': 'گمشدگی رپورٹ', 'description': 'ضروری کاغذات جیسے شناختی کارڈ، ڈرایئونگ لائسنس، اے۔ٹی۔ایم۔ کارڈ، تعلیمی کاغذات اور دوسری اشیاء اکثر گم یا چوری ہو جاتی ہیں۔', 'required_documents': ['درخواست دہندہ کا اصلی شناختی کارڈ بمع 2 کاپیاں', 'گمشدہ دستاویزات کی کاپی اگر موجود ہو', 'کسی بھی امدادی دستاویز کی کاپی'], 'processing_fee': 'مفت', 'processing_time': '15 منٹ', 'delivery_method': 'موقع پر'}, {'service_name': 'جرائم رپورٹ', 'description': 'پولیس خدمت مرکز کسی بھی جرم کی رپورٹ درج کرانے کی سہولت فراہم کرتا ہے۔', 'required_documents': ['درخواست دہندہ کا اصلی شناختی کارڈ اور 2 کاپیاں', 'درخواست دہندہ کی تحریری درخواست اگر موجود ہو'], 'processing_fee': 'مفت', 'processing_time': '15 منٹ', 'delivery_method': 'موقع پر'}, {'service_name': 'خواتین پر تشدد رپورٹ', 'description': 'پولیس خدمت مرکز خواتین پر ہونے والے تشدد کی شکایات کے اندراج اور قانونی معاونت فراہم کرتا ہے۔', 'required_documents': ['درخواست دہندہ کا اصلی شناختی کارڈ اور 2 کاپیاں', 'درخواست دہندہ کی تحریری درخواست اگر موجود ہو'], 'processing_fee': 'مفت', 'processing_time': '15 منٹ', 'delivery_method': 'موقع پر'}, {'service_name': 'ایف۔آئ۔آر۔کی کاپی', 'description': 'شہری کسی بھی پی کے ایم سے اپنی بنیادی معلومات فراہم کر کے ایف آئی آر کی کاپی حاصل کر سکتے ہیں۔', 'required_documents': ['درخواست دہندہ کا اصلی شناختی کارڈ بمع 2 کاپیاں', 'ایف آیَ آر حاصل کرنے کی وجہ', 'ایف آیَ آر نمبر اور پولیس تھانہ'], 'processing_fee': 'مفت', 'processing_time': '15 منٹ', 'delivery_method': 'موقع پر'}]\")]"
            ]
          },
          "metadata": {},
          "execution_count": 16
        }
      ],
      "source": [
        "loader = JSONLoader(\n",
        "    file_path='/content/Services.json',\n",
        "    jq_schema=\".subcategories[]\",\n",
        "    content_key=\".content\",\n",
        "    is_content_key_jq_parsable=True,\n",
        "    text_content=False)\n",
        "\n",
        "doc = loader.load()\n",
        "doc"
      ]
    },
    {
      "cell_type": "code",
      "execution_count": 12,
      "metadata": {
        "id": "mJjvghD9zbb6"
      },
      "outputs": [],
      "source": [
        "# loader = DirectoryLoader(\n",
        "#     path='./',\n",
        "#     glob=\"*.json\",\n",
        "#     loader_cls=JSONLoader,\n",
        "#     loader_kwargs={\n",
        "#         \"jq_schema\": \".subcategories[]\",\n",
        "#         \"content_key\": \".content\",\n",
        "#         \"text_content\": False,\n",
        "#     },\n",
        "#     show_progress=True)"
      ]
    },
    {
      "cell_type": "code",
      "execution_count": 13,
      "metadata": {
        "id": "rd4NAT5ezqaQ"
      },
      "outputs": [],
      "source": [
        "# doc = loader.load()\n",
        "# doc"
      ]
    },
    {
      "cell_type": "code",
      "execution_count": 15,
      "metadata": {
        "id": "4qY_VnY7p9dB"
      },
      "outputs": [],
      "source": [
        "# from langchain.document_loaders.json_loader import JSONLoader\n",
        "\n",
        "# # Path to the cleaned data file\n",
        "# file_path = \"/content/Cleaned Data.json\"\n",
        "\n",
        "# # Use jq schema to process the outer array and access subcategories\n",
        "# loader = JSONLoader(\n",
        "#     file_path=file_path,\n",
        "#     jq_schema=\".[].subcategories[]\",  # Traverse the outer array and access subcategories\n",
        "#     content_key=\".content\",           # Extract the content from each subcategory\n",
        "#     is_content_key_jq_parsable=True,\n",
        "#     text_content=False                # Indicates content is not plain text\n",
        "# )\n",
        "\n",
        "# # Load documents\n",
        "# documents = loader.load()\n",
        "\n",
        "# # Output loaded documents\n",
        "# print(f\"Total documents loaded: {len(documents)}\")\n",
        "# print(\"Sample document metadata:\", documents[0].metadata)\n",
        "# print(\"Sample document content:\", documents[0].page_content)\n"
      ]
    },
    {
      "cell_type": "markdown",
      "metadata": {
        "id": "kEP7-aPl6qyH"
      },
      "source": [
        "# Chroma"
      ]
    },
    {
      "cell_type": "code",
      "execution_count": 17,
      "metadata": {
        "colab": {
          "base_uri": "https://localhost:8080/"
        },
        "id": "mnSDtvpj4CLr",
        "outputId": "d8216f72-b36d-4d93-89f6-59af941c3b15"
      },
      "outputs": [
        {
          "output_type": "stream",
          "name": "stdout",
          "text": [
            "Collecting chromadb\n",
            "  Downloading chromadb-0.5.23-py3-none-any.whl.metadata (6.8 kB)\n",
            "Collecting langchain-chroma\n",
            "  Downloading langchain_chroma-0.1.4-py3-none-any.whl.metadata (1.6 kB)\n",
            "Collecting build>=1.0.3 (from chromadb)\n",
            "  Downloading build-1.2.2.post1-py3-none-any.whl.metadata (6.5 kB)\n",
            "Requirement already satisfied: pydantic>=1.9 in /usr/local/lib/python3.10/dist-packages (from chromadb) (2.9.2)\n",
            "Collecting chroma-hnswlib==0.7.6 (from chromadb)\n",
            "  Downloading chroma_hnswlib-0.7.6-cp310-cp310-manylinux_2_17_x86_64.manylinux2014_x86_64.whl.metadata (252 bytes)\n",
            "Collecting fastapi>=0.95.2 (from chromadb)\n",
            "  Downloading fastapi-0.115.6-py3-none-any.whl.metadata (27 kB)\n",
            "Collecting uvicorn>=0.18.3 (from uvicorn[standard]>=0.18.3->chromadb)\n",
            "  Downloading uvicorn-0.32.1-py3-none-any.whl.metadata (6.6 kB)\n",
            "Requirement already satisfied: numpy>=1.22.5 in /usr/local/lib/python3.10/dist-packages (from chromadb) (1.26.4)\n",
            "Collecting posthog>=2.4.0 (from chromadb)\n",
            "  Downloading posthog-3.7.4-py2.py3-none-any.whl.metadata (2.0 kB)\n",
            "Requirement already satisfied: typing_extensions>=4.5.0 in /usr/local/lib/python3.10/dist-packages (from chromadb) (4.12.2)\n",
            "Collecting onnxruntime>=1.14.1 (from chromadb)\n",
            "  Downloading onnxruntime-1.20.1-cp310-cp310-manylinux_2_27_x86_64.manylinux_2_28_x86_64.whl.metadata (4.5 kB)\n",
            "Requirement already satisfied: opentelemetry-api>=1.2.0 in /usr/local/lib/python3.10/dist-packages (from chromadb) (1.28.2)\n",
            "Collecting opentelemetry-exporter-otlp-proto-grpc>=1.2.0 (from chromadb)\n",
            "  Downloading opentelemetry_exporter_otlp_proto_grpc-1.29.0-py3-none-any.whl.metadata (2.2 kB)\n",
            "Collecting opentelemetry-instrumentation-fastapi>=0.41b0 (from chromadb)\n",
            "  Downloading opentelemetry_instrumentation_fastapi-0.50b0-py3-none-any.whl.metadata (2.1 kB)\n",
            "Requirement already satisfied: opentelemetry-sdk>=1.2.0 in /usr/local/lib/python3.10/dist-packages (from chromadb) (1.28.2)\n",
            "Requirement already satisfied: tokenizers<=0.20.3,>=0.13.2 in /usr/local/lib/python3.10/dist-packages (from chromadb) (0.20.3)\n",
            "Collecting pypika>=0.48.9 (from chromadb)\n",
            "  Downloading PyPika-0.48.9.tar.gz (67 kB)\n",
            "\u001b[2K     \u001b[90m━━━━━━━━━━━━━━━━━━━━━━━━━━━━━━━━━━━━━━━━\u001b[0m \u001b[32m67.3/67.3 kB\u001b[0m \u001b[31m2.8 MB/s\u001b[0m eta \u001b[36m0:00:00\u001b[0m\n",
            "\u001b[?25h  Installing build dependencies ... \u001b[?25l\u001b[?25hdone\n",
            "  Getting requirements to build wheel ... \u001b[?25l\u001b[?25hdone\n",
            "  Preparing metadata (pyproject.toml) ... \u001b[?25l\u001b[?25hdone\n",
            "Requirement already satisfied: tqdm>=4.65.0 in /usr/local/lib/python3.10/dist-packages (from chromadb) (4.66.6)\n",
            "Collecting overrides>=7.3.1 (from chromadb)\n",
            "  Downloading overrides-7.7.0-py3-none-any.whl.metadata (5.8 kB)\n",
            "Requirement already satisfied: importlib-resources in /usr/local/lib/python3.10/dist-packages (from chromadb) (6.4.5)\n",
            "Requirement already satisfied: grpcio>=1.58.0 in /usr/local/lib/python3.10/dist-packages (from chromadb) (1.68.1)\n",
            "Collecting bcrypt>=4.0.1 (from chromadb)\n",
            "  Downloading bcrypt-4.2.1-cp39-abi3-manylinux_2_28_x86_64.whl.metadata (9.8 kB)\n",
            "Requirement already satisfied: typer>=0.9.0 in /usr/local/lib/python3.10/dist-packages (from chromadb) (0.15.0)\n",
            "Collecting kubernetes>=28.1.0 (from chromadb)\n",
            "  Downloading kubernetes-31.0.0-py2.py3-none-any.whl.metadata (1.5 kB)\n",
            "Requirement already satisfied: tenacity>=8.2.3 in /usr/local/lib/python3.10/dist-packages (from chromadb) (9.0.0)\n",
            "Requirement already satisfied: PyYAML>=6.0.0 in /usr/local/lib/python3.10/dist-packages (from chromadb) (6.0.2)\n",
            "Collecting mmh3>=4.0.1 (from chromadb)\n",
            "  Downloading mmh3-5.0.1-cp310-cp310-manylinux_2_5_x86_64.manylinux1_x86_64.manylinux_2_17_x86_64.manylinux2014_x86_64.whl.metadata (14 kB)\n",
            "Requirement already satisfied: orjson>=3.9.12 in /usr/local/lib/python3.10/dist-packages (from chromadb) (3.10.12)\n",
            "Requirement already satisfied: httpx>=0.27.0 in /usr/local/lib/python3.10/dist-packages (from chromadb) (0.28.0)\n",
            "Requirement already satisfied: rich>=10.11.0 in /usr/local/lib/python3.10/dist-packages (from chromadb) (13.9.4)\n",
            "Requirement already satisfied: langchain-core<0.4,>=0.1.40 in /usr/local/lib/python3.10/dist-packages (from langchain-chroma) (0.3.24)\n",
            "Requirement already satisfied: packaging>=19.1 in /usr/local/lib/python3.10/dist-packages (from build>=1.0.3->chromadb) (24.2)\n",
            "Collecting pyproject_hooks (from build>=1.0.3->chromadb)\n",
            "  Downloading pyproject_hooks-1.2.0-py3-none-any.whl.metadata (1.3 kB)\n",
            "Requirement already satisfied: tomli>=1.1.0 in /usr/local/lib/python3.10/dist-packages (from build>=1.0.3->chromadb) (2.2.1)\n",
            "Collecting starlette<0.42.0,>=0.40.0 (from fastapi>=0.95.2->chromadb)\n",
            "  Downloading starlette-0.41.3-py3-none-any.whl.metadata (6.0 kB)\n",
            "Requirement already satisfied: anyio in /usr/local/lib/python3.10/dist-packages (from httpx>=0.27.0->chromadb) (3.7.1)\n",
            "Requirement already satisfied: certifi in /usr/local/lib/python3.10/dist-packages (from httpx>=0.27.0->chromadb) (2024.8.30)\n",
            "Requirement already satisfied: httpcore==1.* in /usr/local/lib/python3.10/dist-packages (from httpx>=0.27.0->chromadb) (1.0.7)\n",
            "Requirement already satisfied: idna in /usr/local/lib/python3.10/dist-packages (from httpx>=0.27.0->chromadb) (3.10)\n",
            "Requirement already satisfied: h11<0.15,>=0.13 in /usr/local/lib/python3.10/dist-packages (from httpcore==1.*->httpx>=0.27.0->chromadb) (0.14.0)\n",
            "Requirement already satisfied: six>=1.9.0 in /usr/local/lib/python3.10/dist-packages (from kubernetes>=28.1.0->chromadb) (1.16.0)\n",
            "Requirement already satisfied: python-dateutil>=2.5.3 in /usr/local/lib/python3.10/dist-packages (from kubernetes>=28.1.0->chromadb) (2.8.2)\n",
            "Requirement already satisfied: google-auth>=1.0.1 in /usr/local/lib/python3.10/dist-packages (from kubernetes>=28.1.0->chromadb) (2.27.0)\n",
            "Requirement already satisfied: websocket-client!=0.40.0,!=0.41.*,!=0.42.*,>=0.32.0 in /usr/local/lib/python3.10/dist-packages (from kubernetes>=28.1.0->chromadb) (1.8.0)\n",
            "Requirement already satisfied: requests in /usr/local/lib/python3.10/dist-packages (from kubernetes>=28.1.0->chromadb) (2.32.3)\n",
            "Requirement already satisfied: requests-oauthlib in /usr/local/lib/python3.10/dist-packages (from kubernetes>=28.1.0->chromadb) (1.3.1)\n",
            "Requirement already satisfied: oauthlib>=3.2.2 in /usr/local/lib/python3.10/dist-packages (from kubernetes>=28.1.0->chromadb) (3.2.2)\n",
            "Requirement already satisfied: urllib3>=1.24.2 in /usr/local/lib/python3.10/dist-packages (from kubernetes>=28.1.0->chromadb) (2.2.3)\n",
            "Collecting durationpy>=0.7 (from kubernetes>=28.1.0->chromadb)\n",
            "  Downloading durationpy-0.9-py3-none-any.whl.metadata (338 bytes)\n",
            "Requirement already satisfied: jsonpatch<2.0,>=1.33 in /usr/local/lib/python3.10/dist-packages (from langchain-core<0.4,>=0.1.40->langchain-chroma) (1.33)\n",
            "Requirement already satisfied: langsmith<0.3,>=0.1.125 in /usr/local/lib/python3.10/dist-packages (from langchain-core<0.4,>=0.1.40->langchain-chroma) (0.1.147)\n",
            "Collecting coloredlogs (from onnxruntime>=1.14.1->chromadb)\n",
            "  Downloading coloredlogs-15.0.1-py2.py3-none-any.whl.metadata (12 kB)\n",
            "Requirement already satisfied: flatbuffers in /usr/local/lib/python3.10/dist-packages (from onnxruntime>=1.14.1->chromadb) (24.3.25)\n",
            "Requirement already satisfied: protobuf in /usr/local/lib/python3.10/dist-packages (from onnxruntime>=1.14.1->chromadb) (4.25.5)\n",
            "Requirement already satisfied: sympy in /usr/local/lib/python3.10/dist-packages (from onnxruntime>=1.14.1->chromadb) (1.13.1)\n",
            "Requirement already satisfied: deprecated>=1.2.6 in /usr/local/lib/python3.10/dist-packages (from opentelemetry-api>=1.2.0->chromadb) (1.2.15)\n",
            "Requirement already satisfied: importlib-metadata<=8.5.0,>=6.0 in /usr/local/lib/python3.10/dist-packages (from opentelemetry-api>=1.2.0->chromadb) (8.5.0)\n",
            "Requirement already satisfied: googleapis-common-protos~=1.52 in /usr/local/lib/python3.10/dist-packages (from opentelemetry-exporter-otlp-proto-grpc>=1.2.0->chromadb) (1.66.0)\n",
            "Collecting opentelemetry-exporter-otlp-proto-common==1.29.0 (from opentelemetry-exporter-otlp-proto-grpc>=1.2.0->chromadb)\n",
            "  Downloading opentelemetry_exporter_otlp_proto_common-1.29.0-py3-none-any.whl.metadata (1.8 kB)\n",
            "Collecting opentelemetry-proto==1.29.0 (from opentelemetry-exporter-otlp-proto-grpc>=1.2.0->chromadb)\n",
            "  Downloading opentelemetry_proto-1.29.0-py3-none-any.whl.metadata (2.3 kB)\n",
            "Collecting opentelemetry-sdk>=1.2.0 (from chromadb)\n",
            "  Downloading opentelemetry_sdk-1.29.0-py3-none-any.whl.metadata (1.5 kB)\n",
            "Collecting protobuf (from onnxruntime>=1.14.1->chromadb)\n",
            "  Downloading protobuf-5.29.1-cp38-abi3-manylinux2014_x86_64.whl.metadata (592 bytes)\n",
            "Collecting opentelemetry-instrumentation-asgi==0.50b0 (from opentelemetry-instrumentation-fastapi>=0.41b0->chromadb)\n",
            "  Downloading opentelemetry_instrumentation_asgi-0.50b0-py3-none-any.whl.metadata (1.9 kB)\n",
            "Collecting opentelemetry-instrumentation==0.50b0 (from opentelemetry-instrumentation-fastapi>=0.41b0->chromadb)\n",
            "  Downloading opentelemetry_instrumentation-0.50b0-py3-none-any.whl.metadata (6.1 kB)\n",
            "Collecting opentelemetry-semantic-conventions==0.50b0 (from opentelemetry-instrumentation-fastapi>=0.41b0->chromadb)\n",
            "  Downloading opentelemetry_semantic_conventions-0.50b0-py3-none-any.whl.metadata (2.3 kB)\n",
            "Collecting opentelemetry-util-http==0.50b0 (from opentelemetry-instrumentation-fastapi>=0.41b0->chromadb)\n",
            "  Downloading opentelemetry_util_http-0.50b0-py3-none-any.whl.metadata (2.5 kB)\n",
            "Requirement already satisfied: wrapt<2.0.0,>=1.0.0 in /usr/local/lib/python3.10/dist-packages (from opentelemetry-instrumentation==0.50b0->opentelemetry-instrumentation-fastapi>=0.41b0->chromadb) (1.17.0)\n",
            "Collecting asgiref~=3.0 (from opentelemetry-instrumentation-asgi==0.50b0->opentelemetry-instrumentation-fastapi>=0.41b0->chromadb)\n",
            "  Downloading asgiref-3.8.1-py3-none-any.whl.metadata (9.3 kB)\n",
            "Collecting opentelemetry-api>=1.2.0 (from chromadb)\n",
            "  Downloading opentelemetry_api-1.29.0-py3-none-any.whl.metadata (1.4 kB)\n",
            "Collecting monotonic>=1.5 (from posthog>=2.4.0->chromadb)\n",
            "  Downloading monotonic-1.6-py2.py3-none-any.whl.metadata (1.5 kB)\n",
            "Requirement already satisfied: backoff>=1.10.0 in /usr/local/lib/python3.10/dist-packages (from posthog>=2.4.0->chromadb) (2.2.1)\n",
            "Requirement already satisfied: annotated-types>=0.6.0 in /usr/local/lib/python3.10/dist-packages (from pydantic>=1.9->chromadb) (0.7.0)\n",
            "Requirement already satisfied: pydantic-core==2.23.4 in /usr/local/lib/python3.10/dist-packages (from pydantic>=1.9->chromadb) (2.23.4)\n",
            "Requirement already satisfied: markdown-it-py>=2.2.0 in /usr/local/lib/python3.10/dist-packages (from rich>=10.11.0->chromadb) (3.0.0)\n",
            "Requirement already satisfied: pygments<3.0.0,>=2.13.0 in /usr/local/lib/python3.10/dist-packages (from rich>=10.11.0->chromadb) (2.18.0)\n",
            "Requirement already satisfied: huggingface-hub<1.0,>=0.16.4 in /usr/local/lib/python3.10/dist-packages (from tokenizers<=0.20.3,>=0.13.2->chromadb) (0.26.3)\n",
            "Requirement already satisfied: click>=8.0.0 in /usr/local/lib/python3.10/dist-packages (from typer>=0.9.0->chromadb) (8.1.7)\n",
            "Requirement already satisfied: shellingham>=1.3.0 in /usr/local/lib/python3.10/dist-packages (from typer>=0.9.0->chromadb) (1.5.4)\n",
            "Collecting httptools>=0.6.3 (from uvicorn[standard]>=0.18.3->chromadb)\n",
            "  Downloading httptools-0.6.4-cp310-cp310-manylinux_2_5_x86_64.manylinux1_x86_64.manylinux_2_17_x86_64.manylinux2014_x86_64.whl.metadata (3.6 kB)\n",
            "Requirement already satisfied: python-dotenv>=0.13 in /usr/local/lib/python3.10/dist-packages (from uvicorn[standard]>=0.18.3->chromadb) (1.0.1)\n",
            "Collecting uvloop!=0.15.0,!=0.15.1,>=0.14.0 (from uvicorn[standard]>=0.18.3->chromadb)\n",
            "  Downloading uvloop-0.21.0-cp310-cp310-manylinux_2_17_x86_64.manylinux2014_x86_64.whl.metadata (4.9 kB)\n",
            "Collecting watchfiles>=0.13 (from uvicorn[standard]>=0.18.3->chromadb)\n",
            "  Downloading watchfiles-1.0.3-cp310-cp310-manylinux_2_17_x86_64.manylinux2014_x86_64.whl.metadata (4.9 kB)\n",
            "Collecting websockets>=10.4 (from uvicorn[standard]>=0.18.3->chromadb)\n",
            "  Downloading websockets-14.1-cp310-cp310-manylinux_2_5_x86_64.manylinux1_x86_64.manylinux_2_17_x86_64.manylinux2014_x86_64.whl.metadata (6.7 kB)\n",
            "Requirement already satisfied: cachetools<6.0,>=2.0.0 in /usr/local/lib/python3.10/dist-packages (from google-auth>=1.0.1->kubernetes>=28.1.0->chromadb) (5.5.0)\n",
            "Requirement already satisfied: pyasn1-modules>=0.2.1 in /usr/local/lib/python3.10/dist-packages (from google-auth>=1.0.1->kubernetes>=28.1.0->chromadb) (0.4.1)\n",
            "Requirement already satisfied: rsa<5,>=3.1.4 in /usr/local/lib/python3.10/dist-packages (from google-auth>=1.0.1->kubernetes>=28.1.0->chromadb) (4.9)\n",
            "Requirement already satisfied: filelock in /usr/local/lib/python3.10/dist-packages (from huggingface-hub<1.0,>=0.16.4->tokenizers<=0.20.3,>=0.13.2->chromadb) (3.16.1)\n",
            "Requirement already satisfied: fsspec>=2023.5.0 in /usr/local/lib/python3.10/dist-packages (from huggingface-hub<1.0,>=0.16.4->tokenizers<=0.20.3,>=0.13.2->chromadb) (2024.10.0)\n",
            "Requirement already satisfied: zipp>=3.20 in /usr/local/lib/python3.10/dist-packages (from importlib-metadata<=8.5.0,>=6.0->opentelemetry-api>=1.2.0->chromadb) (3.21.0)\n",
            "Requirement already satisfied: jsonpointer>=1.9 in /usr/local/lib/python3.10/dist-packages (from jsonpatch<2.0,>=1.33->langchain-core<0.4,>=0.1.40->langchain-chroma) (3.0.0)\n",
            "Requirement already satisfied: requests-toolbelt<2.0.0,>=1.0.0 in /usr/local/lib/python3.10/dist-packages (from langsmith<0.3,>=0.1.125->langchain-core<0.4,>=0.1.40->langchain-chroma) (1.0.0)\n",
            "Requirement already satisfied: mdurl~=0.1 in /usr/local/lib/python3.10/dist-packages (from markdown-it-py>=2.2.0->rich>=10.11.0->chromadb) (0.1.2)\n",
            "Requirement already satisfied: charset-normalizer<4,>=2 in /usr/local/lib/python3.10/dist-packages (from requests->kubernetes>=28.1.0->chromadb) (3.4.0)\n",
            "Requirement already satisfied: sniffio>=1.1 in /usr/local/lib/python3.10/dist-packages (from anyio->httpx>=0.27.0->chromadb) (1.3.1)\n",
            "Requirement already satisfied: exceptiongroup in /usr/local/lib/python3.10/dist-packages (from anyio->httpx>=0.27.0->chromadb) (1.2.2)\n",
            "Collecting humanfriendly>=9.1 (from coloredlogs->onnxruntime>=1.14.1->chromadb)\n",
            "  Downloading humanfriendly-10.0-py2.py3-none-any.whl.metadata (9.2 kB)\n",
            "Requirement already satisfied: mpmath<1.4,>=1.1.0 in /usr/local/lib/python3.10/dist-packages (from sympy->onnxruntime>=1.14.1->chromadb) (1.3.0)\n",
            "Requirement already satisfied: pyasn1<0.7.0,>=0.4.6 in /usr/local/lib/python3.10/dist-packages (from pyasn1-modules>=0.2.1->google-auth>=1.0.1->kubernetes>=28.1.0->chromadb) (0.6.1)\n",
            "Downloading chromadb-0.5.23-py3-none-any.whl (628 kB)\n",
            "\u001b[2K   \u001b[90m━━━━━━━━━━━━━━━━━━━━━━━━━━━━━━━━━━━━━━━━\u001b[0m \u001b[32m628.3/628.3 kB\u001b[0m \u001b[31m15.5 MB/s\u001b[0m eta \u001b[36m0:00:00\u001b[0m\n",
            "\u001b[?25hDownloading chroma_hnswlib-0.7.6-cp310-cp310-manylinux_2_17_x86_64.manylinux2014_x86_64.whl (2.4 MB)\n",
            "\u001b[2K   \u001b[90m━━━━━━━━━━━━━━━━━━━━━━━━━━━━━━━━━━━━━━━━\u001b[0m \u001b[32m2.4/2.4 MB\u001b[0m \u001b[31m55.1 MB/s\u001b[0m eta \u001b[36m0:00:00\u001b[0m\n",
            "\u001b[?25hDownloading langchain_chroma-0.1.4-py3-none-any.whl (10 kB)\n",
            "Downloading bcrypt-4.2.1-cp39-abi3-manylinux_2_28_x86_64.whl (278 kB)\n",
            "\u001b[2K   \u001b[90m━━━━━━━━━━━━━━━━━━━━━━━━━━━━━━━━━━━━━━━━\u001b[0m \u001b[32m278.6/278.6 kB\u001b[0m \u001b[31m18.0 MB/s\u001b[0m eta \u001b[36m0:00:00\u001b[0m\n",
            "\u001b[?25hDownloading build-1.2.2.post1-py3-none-any.whl (22 kB)\n",
            "Downloading fastapi-0.115.6-py3-none-any.whl (94 kB)\n",
            "\u001b[2K   \u001b[90m━━━━━━━━━━━━━━━━━━━━━━━━━━━━━━━━━━━━━━━━\u001b[0m \u001b[32m94.8/94.8 kB\u001b[0m \u001b[31m6.5 MB/s\u001b[0m eta \u001b[36m0:00:00\u001b[0m\n",
            "\u001b[?25hDownloading kubernetes-31.0.0-py2.py3-none-any.whl (1.9 MB)\n",
            "\u001b[2K   \u001b[90m━━━━━━━━━━━━━━━━━━━━━━━━━━━━━━━━━━━━━━━━\u001b[0m \u001b[32m1.9/1.9 MB\u001b[0m \u001b[31m58.1 MB/s\u001b[0m eta \u001b[36m0:00:00\u001b[0m\n",
            "\u001b[?25hDownloading mmh3-5.0.1-cp310-cp310-manylinux_2_5_x86_64.manylinux1_x86_64.manylinux_2_17_x86_64.manylinux2014_x86_64.whl (93 kB)\n",
            "\u001b[2K   \u001b[90m━━━━━━━━━━━━━━━━━━━━━━━━━━━━━━━━━━━━━━━━\u001b[0m \u001b[32m93.2/93.2 kB\u001b[0m \u001b[31m6.7 MB/s\u001b[0m eta \u001b[36m0:00:00\u001b[0m\n",
            "\u001b[?25hDownloading onnxruntime-1.20.1-cp310-cp310-manylinux_2_27_x86_64.manylinux_2_28_x86_64.whl (13.3 MB)\n",
            "\u001b[2K   \u001b[90m━━━━━━━━━━━━━━━━━━━━━━━━━━━━━━━━━━━━━━━━\u001b[0m \u001b[32m13.3/13.3 MB\u001b[0m \u001b[31m77.9 MB/s\u001b[0m eta \u001b[36m0:00:00\u001b[0m\n",
            "\u001b[?25hDownloading opentelemetry_exporter_otlp_proto_grpc-1.29.0-py3-none-any.whl (18 kB)\n",
            "Downloading opentelemetry_exporter_otlp_proto_common-1.29.0-py3-none-any.whl (18 kB)\n",
            "Downloading opentelemetry_proto-1.29.0-py3-none-any.whl (55 kB)\n",
            "\u001b[2K   \u001b[90m━━━━━━━━━━━━━━━━━━━━━━━━━━━━━━━━━━━━━━━━\u001b[0m \u001b[32m55.8/55.8 kB\u001b[0m \u001b[31m3.6 MB/s\u001b[0m eta \u001b[36m0:00:00\u001b[0m\n",
            "\u001b[?25hDownloading opentelemetry_instrumentation_fastapi-0.50b0-py3-none-any.whl (12 kB)\n",
            "Downloading opentelemetry_instrumentation-0.50b0-py3-none-any.whl (30 kB)\n",
            "Downloading opentelemetry_instrumentation_asgi-0.50b0-py3-none-any.whl (16 kB)\n",
            "Downloading opentelemetry_semantic_conventions-0.50b0-py3-none-any.whl (166 kB)\n",
            "\u001b[2K   \u001b[90m━━━━━━━━━━━━━━━━━━━━━━━━━━━━━━━━━━━━━━━━\u001b[0m \u001b[32m166.6/166.6 kB\u001b[0m \u001b[31m10.2 MB/s\u001b[0m eta \u001b[36m0:00:00\u001b[0m\n",
            "\u001b[?25hDownloading opentelemetry_api-1.29.0-py3-none-any.whl (64 kB)\n",
            "\u001b[2K   \u001b[90m━━━━━━━━━━━━━━━━━━━━━━━━━━━━━━━━━━━━━━━━\u001b[0m \u001b[32m64.3/64.3 kB\u001b[0m \u001b[31m4.4 MB/s\u001b[0m eta \u001b[36m0:00:00\u001b[0m\n",
            "\u001b[?25hDownloading opentelemetry_util_http-0.50b0-py3-none-any.whl (6.9 kB)\n",
            "Downloading opentelemetry_sdk-1.29.0-py3-none-any.whl (118 kB)\n",
            "\u001b[2K   \u001b[90m━━━━━━━━━━━━━━━━━━━━━━━━━━━━━━━━━━━━━━━━\u001b[0m \u001b[32m118.1/118.1 kB\u001b[0m \u001b[31m7.7 MB/s\u001b[0m eta \u001b[36m0:00:00\u001b[0m\n",
            "\u001b[?25hDownloading overrides-7.7.0-py3-none-any.whl (17 kB)\n",
            "Downloading posthog-3.7.4-py2.py3-none-any.whl (54 kB)\n",
            "\u001b[2K   \u001b[90m━━━━━━━━━━━━━━━━━━━━━━━━━━━━━━━━━━━━━━━━\u001b[0m \u001b[32m54.8/54.8 kB\u001b[0m \u001b[31m3.6 MB/s\u001b[0m eta \u001b[36m0:00:00\u001b[0m\n",
            "\u001b[?25hDownloading uvicorn-0.32.1-py3-none-any.whl (63 kB)\n",
            "\u001b[2K   \u001b[90m━━━━━━━━━━━━━━━━━━━━━━━━━━━━━━━━━━━━━━━━\u001b[0m \u001b[32m63.8/63.8 kB\u001b[0m \u001b[31m4.5 MB/s\u001b[0m eta \u001b[36m0:00:00\u001b[0m\n",
            "\u001b[?25hDownloading durationpy-0.9-py3-none-any.whl (3.5 kB)\n",
            "Downloading httptools-0.6.4-cp310-cp310-manylinux_2_5_x86_64.manylinux1_x86_64.manylinux_2_17_x86_64.manylinux2014_x86_64.whl (442 kB)\n",
            "\u001b[2K   \u001b[90m━━━━━━━━━━━━━━━━━━━━━━━━━━━━━━━━━━━━━━━━\u001b[0m \u001b[32m442.1/442.1 kB\u001b[0m \u001b[31m26.4 MB/s\u001b[0m eta \u001b[36m0:00:00\u001b[0m\n",
            "\u001b[?25hDownloading monotonic-1.6-py2.py3-none-any.whl (8.2 kB)\n",
            "Downloading protobuf-5.29.1-cp38-abi3-manylinux2014_x86_64.whl (319 kB)\n",
            "\u001b[2K   \u001b[90m━━━━━━━━━━━━━━━━━━━━━━━━━━━━━━━━━━━━━━━━\u001b[0m \u001b[32m319.7/319.7 kB\u001b[0m \u001b[31m19.0 MB/s\u001b[0m eta \u001b[36m0:00:00\u001b[0m\n",
            "\u001b[?25hDownloading starlette-0.41.3-py3-none-any.whl (73 kB)\n",
            "\u001b[2K   \u001b[90m━━━━━━━━━━━━━━━━━━━━━━━━━━━━━━━━━━━━━━━━\u001b[0m \u001b[32m73.2/73.2 kB\u001b[0m \u001b[31m5.1 MB/s\u001b[0m eta \u001b[36m0:00:00\u001b[0m\n",
            "\u001b[?25hDownloading uvloop-0.21.0-cp310-cp310-manylinux_2_17_x86_64.manylinux2014_x86_64.whl (3.8 MB)\n",
            "\u001b[2K   \u001b[90m━━━━━━━━━━━━━━━━━━━━━━━━━━━━━━━━━━━━━━━━\u001b[0m \u001b[32m3.8/3.8 MB\u001b[0m \u001b[31m69.5 MB/s\u001b[0m eta \u001b[36m0:00:00\u001b[0m\n",
            "\u001b[?25hDownloading watchfiles-1.0.3-cp310-cp310-manylinux_2_17_x86_64.manylinux2014_x86_64.whl (443 kB)\n",
            "\u001b[2K   \u001b[90m━━━━━━━━━━━━━━━━━━━━━━━━━━━━━━━━━━━━━━━━\u001b[0m \u001b[32m443.8/443.8 kB\u001b[0m \u001b[31m22.9 MB/s\u001b[0m eta \u001b[36m0:00:00\u001b[0m\n",
            "\u001b[?25hDownloading websockets-14.1-cp310-cp310-manylinux_2_5_x86_64.manylinux1_x86_64.manylinux_2_17_x86_64.manylinux2014_x86_64.whl (168 kB)\n",
            "\u001b[2K   \u001b[90m━━━━━━━━━━━━━━━━━━━━━━━━━━━━━━━━━━━━━━━━\u001b[0m \u001b[32m168.2/168.2 kB\u001b[0m \u001b[31m9.7 MB/s\u001b[0m eta \u001b[36m0:00:00\u001b[0m\n",
            "\u001b[?25hDownloading coloredlogs-15.0.1-py2.py3-none-any.whl (46 kB)\n",
            "\u001b[2K   \u001b[90m━━━━━━━━━━━━━━━━━━━━━━━━━━━━━━━━━━━━━━━━\u001b[0m \u001b[32m46.0/46.0 kB\u001b[0m \u001b[31m2.9 MB/s\u001b[0m eta \u001b[36m0:00:00\u001b[0m\n",
            "\u001b[?25hDownloading pyproject_hooks-1.2.0-py3-none-any.whl (10 kB)\n",
            "Downloading asgiref-3.8.1-py3-none-any.whl (23 kB)\n",
            "Downloading humanfriendly-10.0-py2.py3-none-any.whl (86 kB)\n",
            "\u001b[2K   \u001b[90m━━━━━━━━━━━━━━━━━━━━━━━━━━━━━━━━━━━━━━━━\u001b[0m \u001b[32m86.8/86.8 kB\u001b[0m \u001b[31m5.8 MB/s\u001b[0m eta \u001b[36m0:00:00\u001b[0m\n",
            "\u001b[?25hBuilding wheels for collected packages: pypika\n",
            "  Building wheel for pypika (pyproject.toml) ... \u001b[?25l\u001b[?25hdone\n",
            "  Created wheel for pypika: filename=PyPika-0.48.9-py2.py3-none-any.whl size=53725 sha256=c87241d9ede856dbc0d6527c52997630b06c06dd8769e6c678f3c856c16301f6\n",
            "  Stored in directory: /root/.cache/pip/wheels/e1/26/51/d0bffb3d2fd82256676d7ad3003faea3bd6dddc9577af665f4\n",
            "Successfully built pypika\n",
            "Installing collected packages: pypika, monotonic, durationpy, websockets, uvloop, uvicorn, pyproject_hooks, protobuf, overrides, opentelemetry-util-http, mmh3, humanfriendly, httptools, chroma-hnswlib, bcrypt, asgiref, watchfiles, starlette, posthog, opentelemetry-proto, opentelemetry-api, coloredlogs, build, opentelemetry-semantic-conventions, opentelemetry-exporter-otlp-proto-common, onnxruntime, kubernetes, fastapi, opentelemetry-sdk, opentelemetry-instrumentation, opentelemetry-instrumentation-asgi, opentelemetry-exporter-otlp-proto-grpc, opentelemetry-instrumentation-fastapi, chromadb, langchain-chroma\n",
            "  Attempting uninstall: protobuf\n",
            "    Found existing installation: protobuf 4.25.5\n",
            "    Uninstalling protobuf-4.25.5:\n",
            "      Successfully uninstalled protobuf-4.25.5\n",
            "  Attempting uninstall: opentelemetry-api\n",
            "    Found existing installation: opentelemetry-api 1.28.2\n",
            "    Uninstalling opentelemetry-api-1.28.2:\n",
            "      Successfully uninstalled opentelemetry-api-1.28.2\n",
            "  Attempting uninstall: opentelemetry-semantic-conventions\n",
            "    Found existing installation: opentelemetry-semantic-conventions 0.49b2\n",
            "    Uninstalling opentelemetry-semantic-conventions-0.49b2:\n",
            "      Successfully uninstalled opentelemetry-semantic-conventions-0.49b2\n",
            "  Attempting uninstall: opentelemetry-sdk\n",
            "    Found existing installation: opentelemetry-sdk 1.28.2\n",
            "    Uninstalling opentelemetry-sdk-1.28.2:\n",
            "      Successfully uninstalled opentelemetry-sdk-1.28.2\n",
            "\u001b[31mERROR: pip's dependency resolver does not currently take into account all the packages that are installed. This behaviour is the source of the following dependency conflicts.\n",
            "tensorflow 2.17.1 requires protobuf!=4.21.0,!=4.21.1,!=4.21.2,!=4.21.3,!=4.21.4,!=4.21.5,<5.0.0dev,>=3.20.3, but you have protobuf 5.29.1 which is incompatible.\n",
            "tensorflow-metadata 1.13.1 requires protobuf<5,>=3.20.3, but you have protobuf 5.29.1 which is incompatible.\u001b[0m\u001b[31m\n",
            "\u001b[0mSuccessfully installed asgiref-3.8.1 bcrypt-4.2.1 build-1.2.2.post1 chroma-hnswlib-0.7.6 chromadb-0.5.23 coloredlogs-15.0.1 durationpy-0.9 fastapi-0.115.6 httptools-0.6.4 humanfriendly-10.0 kubernetes-31.0.0 langchain-chroma-0.1.4 mmh3-5.0.1 monotonic-1.6 onnxruntime-1.20.1 opentelemetry-api-1.29.0 opentelemetry-exporter-otlp-proto-common-1.29.0 opentelemetry-exporter-otlp-proto-grpc-1.29.0 opentelemetry-instrumentation-0.50b0 opentelemetry-instrumentation-asgi-0.50b0 opentelemetry-instrumentation-fastapi-0.50b0 opentelemetry-proto-1.29.0 opentelemetry-sdk-1.29.0 opentelemetry-semantic-conventions-0.50b0 opentelemetry-util-http-0.50b0 overrides-7.7.0 posthog-3.7.4 protobuf-5.29.1 pypika-0.48.9 pyproject_hooks-1.2.0 starlette-0.41.3 uvicorn-0.32.1 uvloop-0.21.0 watchfiles-1.0.3 websockets-14.1\n"
          ]
        }
      ],
      "source": [
        "!pip install chromadb langchain-chroma"
      ]
    },
    {
      "cell_type": "code",
      "execution_count": 18,
      "metadata": {
        "id": "i1BQDgZP4iFj"
      },
      "outputs": [],
      "source": [
        "import chromadb\n",
        "chroma_client = chromadb.Client()"
      ]
    },
    {
      "cell_type": "code",
      "execution_count": 19,
      "metadata": {
        "id": "ykzXXypC4r9G"
      },
      "outputs": [],
      "source": [
        "collection = chroma_client.create_collection(name=\"PKM\")"
      ]
    },
    {
      "cell_type": "code",
      "execution_count": 20,
      "metadata": {
        "colab": {
          "base_uri": "https://localhost:8080/"
        },
        "id": "G_omc5H9e9cW",
        "outputId": "e11e3abc-b0f5-458a-e220-53517b5e4ce5"
      },
      "outputs": [
        {
          "output_type": "execute_result",
          "data": {
            "text/plain": [
              "Collection(name=PKM)"
            ]
          },
          "metadata": {},
          "execution_count": 20
        }
      ],
      "source": [
        "collection"
      ]
    },
    {
      "cell_type": "markdown",
      "metadata": {
        "id": "Gpfo6x0X87E-"
      },
      "source": [
        "# mistral embeding"
      ]
    },
    {
      "cell_type": "code",
      "execution_count": 21,
      "metadata": {
        "id": "4eQ-HGR58ikR",
        "colab": {
          "base_uri": "https://localhost:8080/"
        },
        "outputId": "55093c33-52af-483c-ca71-b203c7eeb7a2"
      },
      "outputs": [
        {
          "output_type": "stream",
          "name": "stderr",
          "text": [
            "/usr/local/lib/python3.10/dist-packages/langchain_mistralai/embeddings.py:175: UserWarning: Could not download mistral tokenizer from Huggingface for calculating batch sizes. Set a Huggingface token via the HF_TOKEN environment variable to download the real tokenizer. Falling back to a dummy tokenizer that uses `len()`.\n",
            "  warnings.warn(\n"
          ]
        }
      ],
      "source": [
        "from langchain_mistralai import MistralAIEmbeddings\n",
        "\n",
        "embeddings = MistralAIEmbeddings(model=\"mistral-embed\")"
      ]
    },
    {
      "cell_type": "code",
      "execution_count": 22,
      "metadata": {
        "colab": {
          "base_uri": "https://localhost:8080/"
        },
        "id": "3Y5LMF2W83Et",
        "outputId": "e886d26f-036c-4d86-8586-4a911bb15fb0"
      },
      "outputs": [
        {
          "output_type": "stream",
          "name": "stdout",
          "text": [
            "[-0.00965118408203125, 0.00885772705078125, 0.035675048828125, 0.01277923583984375, 0.04656982421875, 0.052276611328125, 0.044891357421875, 0.0115509033203125, -0.0526123046875, -0.0079803466796875, -0.03326416015625, 0.050262451171875, -0.007144927978515625, -0.01480865478515625, -0.051544189453125, 0.031280517578125, 0.0147552490234375, 0.0037517547607421875, 0.01453399658203125, 0.01064300537109375, -0.0170440673828125, 0.00026488304138183594, -0.05963134765625, 0.01108551025390625, -0.043548583984375, -0.00772857666015625, -0.007633209228515625, -0.04266357421875, -0.019195556640625, -0.0288238525390625, -0.0015840530395507812, -0.0175323486328125, 0.008453369140625, -0.00023114681243896484, -0.006214141845703125, 0.0144805908203125, -0.0178375244140625, -0.0435791015625, 0.0457763671875, -0.0201873779296875, -0.023529052734375, -0.00812530517578125, -0.0307464599609375, 0.00946807861328125, -0.006633758544921875, -0.02569580078125, 0.00428009033203125, -0.03314208984375, 0.0268402099609375, -0.0090484619140625, -0.0116729736328125, 0.043548583984375, 0.046661376953125, -0.0190277099609375, 0.0310516357421875, 0.00403594970703125, 0.0244598388671875, -0.0032215118408203125, -0.04656982421875, 0.056488037109375, -0.045867919921875, -0.002269744873046875, -0.01335906982421875, -0.0185546875, 0.0118255615234375, 0.038055419921875, 0.006893157958984375, -0.0169525146484375, 0.018280029296875, -0.02069091796875, 0.0208587646484375, -0.0151824951171875, -0.0157012939453125, 0.0343017578125, -0.0006546974182128906, -0.057586669921875, 0.044281005859375, 0.0143280029296875, 0.03131103515625, 0.0223236083984375, -0.050506591796875, 0.005840301513671875, 0.045562744140625, -0.02032470703125, -0.03515625, 0.037841796875, 0.0150146484375, -0.0290985107421875, 0.00832366943359375, 0.031951904296875, 0.0217742919921875, -0.0178680419921875, 0.0289306640625, -0.005859375, 0.00922393798828125, 0.048583984375, -0.02606201171875, -0.020477294921875, -0.035919189453125, 0.041595458984375, 0.030609130859375, -0.004177093505859375, 0.059783935546875, -0.0347900390625, 0.0307464599609375, -0.005390167236328125, 0.00905609130859375, -0.0096435546875, -0.0010814666748046875, -0.041900634765625, -0.0660400390625, -0.0262298583984375, -0.012908935546875, -0.04815673828125, 0.01186370849609375, 0.0030422210693359375, -0.01454925537109375, 0.052703857421875, -0.0430908203125, -0.04022216796875, 0.0010251998901367188, 0.00821685791015625, 0.01195526123046875, -0.005771636962890625, -0.02252197265625, -0.033172607421875, 0.015777587890625, 0.0166015625, -0.02618408203125, -0.01361083984375, -0.0207672119140625, 0.0158233642578125, -0.02728271484375, -0.0168914794921875, -0.00722503662109375, -0.0092620849609375, -0.0005660057067871094, -0.00876617431640625, -0.025726318359375, -0.004180908203125, 0.02056884765625, -0.036285400390625, -0.042816162109375, 0.0019321441650390625, -0.01471710205078125, 0.0105743408203125, -0.01316070556640625, 0.052520751953125, -0.07427978515625, 0.0242767333984375, -0.023468017578125, 0.044708251953125, 0.0631103515625, 0.04840087890625, 0.00023376941680908203, -0.0228118896484375, -0.0273590087890625, -0.004116058349609375, 0.0177154541015625, -0.02545166015625, -0.018341064453125, -0.002742767333984375, -0.012847900390625, 0.0439453125, -0.005741119384765625, 0.0007729530334472656, -0.0262451171875, -0.01678466796875, -0.0030574798583984375, -0.0088348388671875, 0.052154541015625, -0.01256561279296875, 0.03094482421875, 0.048614501953125, -0.01171875, 0.0279998779296875, 0.006969451904296875, -0.01081085205078125, 0.0516357421875, 0.0178375244140625, -0.0208587646484375, -0.00980377197265625, 0.01206207275390625, -0.0111541748046875, 0.007106781005859375, -0.025787353515625, -0.0287933349609375, 4.26173210144043e-05, -0.01727294921875, 0.056976318359375, 0.005390167236328125, -0.0438232421875, -0.048614501953125, 0.042816162109375, -0.03240966796875, 0.0662841796875, 0.04534912109375, 0.0121002197265625, 0.040802001953125, -0.0163116455078125, -0.002105712890625, -0.004413604736328125, 0.033721923828125, 0.04229736328125, 0.0003261566162109375, 0.031585693359375, -0.0218048095703125, 0.05169677734375, 0.01334381103515625, -0.037200927734375, -0.0149078369140625, 0.0036640167236328125, -0.006603240966796875, -0.0233001708984375, -0.002811431884765625, -0.0305633544921875, 0.0148773193359375, 0.0027294158935546875, -0.043212890625, -0.006130218505859375, 0.00518798828125, -0.05853271484375, -0.0151519775390625, 0.017913818359375, 0.0111236572265625, 0.036865234375, 0.011871337890625, -0.03350830078125, -0.032012939453125, 0.01036834716796875, -0.0220794677734375, -0.00634765625, -0.00800323486328125, 0.02667236328125, 0.030975341796875, -0.014190673828125, -0.01117706298828125, 0.03228759765625, -0.01081085205078125, 0.035186767578125, -0.034027099609375, 0.02972412109375, -0.01163482666015625, 0.06512451171875, 2.3305416107177734e-05, 0.0009436607360839844, 0.01190185546875, -0.00785064697265625, -0.002071380615234375, 0.032379150390625, -0.048095703125, -0.031829833984375, -0.06085205078125, -0.02557373046875, -0.038116455078125, -0.004840850830078125, 0.006748199462890625, -0.08551025390625, 0.0977783203125, -0.0369873046875, 0.0193634033203125, -0.00818634033203125, 0.057861328125, -0.0537109375, 0.03558349609375, 0.037353515625, -0.06298828125, 0.0318603515625, 0.0732421875, -0.005756378173828125, -0.0143280029296875, -0.014739990234375, 0.0224761962890625, 0.0139923095703125, 0.01824951171875, -0.001407623291015625, -0.02337646484375, 0.04510498046875, -0.00505828857421875, 0.01873779296875, -0.04718017578125, 0.0024242401123046875, 0.017059326171875, 0.0128021240234375, -0.06085205078125, -0.0012340545654296875, -0.0101318359375, 0.006504058837890625, -0.0090484619140625, -0.061676025390625, 0.016845703125, 0.0352783203125, 0.0106658935546875, -0.007335662841796875, 0.0133514404296875, -0.0423583984375, 0.052398681640625, 0.0494384765625, -0.0253448486328125, 0.0122528076171875, 0.04730224609375, -0.0279998779296875, 0.0006380081176757812, -0.00722503662109375, 0.0450439453125, -0.036163330078125, -0.0182647705078125, 0.0089569091796875, -0.037750244140625, -0.0694580078125, -0.0024700164794921875, 0.0163726806640625, -0.0215301513671875, 0.0390625, 0.02496337890625, 0.00537872314453125, -0.045440673828125, -0.039794921875, 0.03399658203125, -0.0223236083984375, -0.03326416015625, -0.01049041748046875, 0.06768798828125, -0.029571533203125, 0.015716552734375, -0.01030731201171875, 0.0291595458984375, -0.0290374755859375, -0.01389312744140625, -0.0256195068359375, -0.01102447509765625, 0.004848480224609375, 0.0305938720703125, 0.0288238525390625, -0.0043792724609375, 0.0211181640625, 0.056640625, 0.0305023193359375, -0.0113983154296875, 0.01357269287109375, 0.0160369873046875, -0.00083160400390625, 0.003032684326171875, -0.0038852691650390625, -0.03607177734375, -0.019287109375, -0.0305023193359375, 0.032012939453125, 0.005748748779296875, 0.005168914794921875, 0.037872314453125, 0.022613525390625, -0.027679443359375, 0.060577392578125, -0.04962158203125, 0.06915283203125, 0.003032684326171875, -0.0535888671875, 0.0264892578125, 0.07147216796875, -0.019073486328125, 0.0164947509765625, 0.06488037109375, 0.035919189453125, -0.00916290283203125, 0.042388916015625, 0.01442718505859375, 0.056854248046875, -0.055267333984375, 0.01861572265625, 0.031219482421875, 0.01328277587890625, 0.0184173583984375, 0.0159759521484375, 0.01482391357421875, 0.051116943359375, 0.0098419189453125, -0.00917816162109375, -0.00649261474609375, 0.0144805908203125, -0.0151824951171875, 0.0182037353515625, 0.040740966796875, 0.026611328125, 0.0014390945434570312, 0.00543212890625, -0.081298828125, -0.0006694793701171875, -0.01036834716796875, 0.0770263671875, 0.06451416015625, 0.062225341796875, -0.03558349609375, 0.0167388916015625, -0.031463623046875, 0.0241241455078125, 0.0174407958984375, 0.035491943359375, 0.035675048828125, -0.00823974609375, -0.01531982421875, -0.045562744140625, 0.042999267578125, 0.0291748046875, 0.00321197509765625, 0.034027099609375, 0.01751708984375, 0.024200439453125, 0.018341064453125, -0.0224151611328125, 0.0190887451171875, 0.039947509765625, -0.041656494140625, -0.018463134765625, 0.0241851806640625, -0.012908935546875, -0.04229736328125, -0.01096343994140625, 0.03240966796875, 0.0245208740234375, -0.0268707275390625, 0.00861358642578125, -0.05487060546875, 0.00977325439453125, 0.057373046875, -0.06060791015625, -0.03594970703125, 0.037261962890625, 0.006549835205078125, 0.0258026123046875, -0.046539306640625, -0.0438232421875, 0.0249786376953125, -0.0211181640625, -0.008819580078125, 0.0079498291015625, 0.023712158203125, -0.047515869140625, -0.008575439453125, -0.039581298828125, 0.0243377685546875, 0.00731658935546875, -0.0205078125, 0.055389404296875, -0.0210418701171875, 0.0012569427490234375, 0.058746337890625, 0.0211029052734375, -0.0150146484375, -0.029510498046875, 0.0250396728515625, -0.04864501953125, -0.01412200927734375, -0.005847930908203125, 0.0214080810546875, 0.01177215576171875, 0.023529052734375, -0.008819580078125, -0.0318603515625, -0.01540374755859375, 0.016143798828125, 0.042572021484375, -0.035858154296875, -0.0767822265625, -0.05743408203125, 0.06207275390625, -0.0016317367553710938, 0.050628662109375, 0.0088958740234375, -0.0255279541015625, 0.0301971435546875, -0.0299835205078125, -0.026153564453125, 0.014739990234375, 0.0304718017578125, -0.01125335693359375, 0.03790283203125, -0.0053253173828125, 0.03289794921875, -0.01055908203125, 0.058135986328125, -0.00646209716796875, -0.0152130126953125, -0.0545654296875, 0.0308837890625, 0.046142578125, -0.06988525390625, -0.040313720703125, 0.0003485679626464844, 0.033599853515625, 0.03070068359375, -0.0158538818359375, -0.006099700927734375, 0.03485107421875, -0.04833984375, -0.05224609375, 0.01483917236328125, -0.0139007568359375, -0.0372314453125, -0.002819061279296875, -0.0277557373046875, -0.004467010498046875, 0.0162353515625, -8.237361907958984e-05, 0.038330078125, 0.015655517578125, -0.0174407958984375, -0.0188446044921875, 0.021759033203125, -0.03826904296875, -0.0251617431640625, -0.006072998046875, 0.0025196075439453125, 0.0027179718017578125, -0.032135009765625, 0.028289794921875, -0.041412353515625, 0.0369873046875, 0.0205841064453125, -0.016998291015625, -0.01326751708984375, -0.0258026123046875, -0.062286376953125, -0.0192108154296875, 0.0274200439453125, 0.007480621337890625, 0.007709503173828125, -0.039947509765625, 0.048553466796875, -0.006473541259765625, -0.0005807876586914062, 0.0108795166015625, -0.00543975830078125, 0.045867919921875, -0.007686614990234375, 0.01110076904296875, -0.004093170166015625, -0.0214996337890625, -0.025482177734375, 0.0203399658203125, -0.040740966796875, 0.006153106689453125, 0.00701904296875, -0.0251007080078125, 0.005344390869140625, -0.01499176025390625, -0.06207275390625, -0.01079559326171875, 0.041595458984375, 0.0239105224609375, -0.035980224609375, -0.032958984375, -0.02032470703125, -0.01000213623046875, -0.00899505615234375, 0.044342041015625, -0.0167388916015625, -0.01366424560546875, 0.00492095947265625, 0.023162841796875, 0.0533447265625, 0.012969970703125, 0.0278167724609375, 0.00919342041015625, 0.06524658203125, -0.0261993408203125, -0.0055694580078125, 0.0093994140625, -0.033599853515625, 0.01425933837890625, -0.0299530029296875, 0.045989990234375, -0.021728515625, -0.00011390447616577148, 0.0268402099609375, 0.0222015380859375, -0.00151824951171875, 0.00922393798828125, -0.0028018951416015625, 0.0195770263671875, 0.0423583984375, 0.044403076171875, -0.03582763671875, -0.062103271484375, 0.021697998046875, 0.0197601318359375, 0.0281982421875, 0.0101318359375, -0.026763916015625, -0.019317626953125, 0.001613616943359375, 0.05401611328125, -0.0172271728515625, -0.0338134765625, -0.0556640625, 0.0005636215209960938, -0.0207672119140625, 0.054534912109375, -0.010162353515625, 0.05645751953125, 0.045806884765625, -0.03900146484375, 0.0017557144165039062, 0.053436279296875, 0.025054931640625, 0.00788116455078125, -0.0189666748046875, -0.0112762451171875, 0.0008912086486816406, -0.0147247314453125, -0.027923583984375, 0.042144775390625, 0.0288543701171875, -0.0679931640625, -0.0111846923828125, 0.0156402587890625, 0.002307891845703125, 0.056640625, 0.0079193115234375, 0.014434814453125, 0.04840087890625, 0.00847625732421875, -0.002838134765625, -0.010406494140625, -0.0013151168823242188, 0.046875, 0.0455322265625, 0.0039520263671875, 0.00411224365234375, 0.0161285400390625, 0.036346435546875, 0.0130462646484375, 0.01019287109375, 0.01345062255859375, -0.0030155181884765625, 0.043121337890625, 0.036407470703125, 0.045867919921875, 0.013275146484375, 0.0030193328857421875, -0.00806427001953125, 0.031036376953125, 0.036376953125, 0.01514434814453125, 0.0065460205078125, 0.011016845703125, 0.000415802001953125, -0.037078857421875, -0.029876708984375, 0.0024738311767578125, -0.020782470703125, -0.0133819580078125, -0.042694091796875, 0.0114288330078125, -0.036865234375, -0.01140594482421875, 0.048675537109375, 0.0197296142578125, 0.0002608299255371094, 0.0751953125, -0.010498046875, -0.023406982421875, 0.0003063678741455078, 0.0169677734375, -0.037078857421875, -0.03375244140625, -0.033233642578125, 0.0404052734375, -0.0233154296875, -0.05517578125, -0.043426513671875, 0.037200927734375, -0.006439208984375, -0.053314208984375, -0.004024505615234375, -0.0251922607421875, -0.004901885986328125, 0.012176513671875, -0.030609130859375, -0.00620269775390625, 0.0007791519165039062, -0.0262603759765625, -0.00914764404296875, 0.025177001953125, -0.01143646240234375, -0.050079345703125, -0.016510009765625, -0.044647216796875, 0.037017822265625, 0.00518798828125, 0.046875, 0.01375579833984375, -0.00901031494140625, 0.0181427001953125, 0.0258941650390625, -0.01074981689453125, -0.039276123046875, 0.01025390625, -0.03631591796875, -0.00997161865234375, 0.0041656494140625, 0.003040313720703125, -0.0305938720703125, -2.676248550415039e-05, 0.060394287109375, -0.0740966796875, 0.036529541015625, 0.005023956298828125, -0.045562744140625, -0.00893402099609375, 0.01446533203125, 0.00585174560546875, 0.017547607421875, 0.039581298828125, -0.003841400146484375, -0.022064208984375, -0.0260162353515625, -0.0545654296875, 0.0731201171875, 0.0005350112915039062, 0.0169219970703125, -0.02301025390625, 0.0238494873046875, -0.00746917724609375, -0.040191650390625, -0.018829345703125, -0.047027587890625, 0.0032558441162109375, 0.0010442733764648438, 0.0269927978515625, -0.006069183349609375, 0.020263671875, 0.00926971435546875, -0.05267333984375, -0.0155029296875, -0.006092071533203125, -0.00997161865234375, -0.0196685791015625, -0.04730224609375, -0.0216827392578125, -0.05523681640625, -0.02447509765625, -0.0256195068359375, -0.03363037109375, 0.01763916015625, -0.004032135009765625, -0.035369873046875, 0.02764892578125, -0.0010766983032226562, 0.0110015869140625, 0.00933837890625, 0.024658203125, -0.0213775634765625, 0.005382537841796875, -0.030670166015625, 0.03924560546875, 0.055450439453125, -0.0338134765625, -0.009521484375, -0.0196380615234375, 0.007289886474609375, -0.031982421875, 0.042755126953125, 0.0362548828125, -0.0012731552124023438, -0.0167236328125, -0.025054931640625, -0.07427978515625, -0.021453857421875, 0.0090179443359375, 0.0399169921875, -0.0249481201171875, -0.004657745361328125, -0.056915283203125, 0.038421630859375, -0.00376129150390625, 0.0259857177734375, 0.020904541015625, -0.042327880859375, -0.092041015625, -0.0814208984375, -0.0386962890625, -0.0227203369140625, 0.0028324127197265625, 0.02655029296875, -0.0167388916015625, -0.01727294921875, 0.007293701171875, -0.005039215087890625, 0.043243408203125, 0.049072265625, 0.04217529296875, -0.0227813720703125, 0.1033935546875, 0.002017974853515625, 0.0113067626953125, -0.01776123046875, 0.018768310546875, -0.002933502197265625, 0.00829315185546875, -0.00772857666015625, -0.006748199462890625, 0.020263671875, 0.0038852691650390625, -0.045806884765625, 0.044464111328125, -0.0232391357421875, -0.00972747802734375, -0.0390625, 0.0267791748046875, 0.042572021484375, 0.00010353326797485352, -0.02667236328125, 0.03912353515625, -0.053375244140625, -0.07958984375, -0.0123138427734375, -0.02142333984375, -0.0279083251953125, 0.0108489990234375, -0.03167724609375, 0.0285491943359375, -0.045989990234375, 0.0758056640625, 0.02374267578125, 0.005016326904296875, -0.0222015380859375, 0.00975799560546875, -0.0250244140625, 0.04510498046875, -0.0147552490234375, -0.035430908203125, 0.006317138671875, 0.00943756103515625, -0.04632568359375, 0.0167694091796875, 0.028045654296875, -0.026580810546875, 0.0172882080078125, -0.007404327392578125, -0.02069091796875, 0.0394287109375, -0.00540924072265625, -0.01568603515625, -0.0121307373046875, 0.0232696533203125, -0.04180908203125, -0.046234130859375, 0.00426483154296875, 0.0277099609375, -0.052978515625, -0.0018873214721679688, 0.0272216796875, 0.01323699951171875, -0.01125335693359375, 0.02899169921875, 0.0421142578125, 0.02203369140625, 0.016754150390625, -0.0028591156005859375, 0.0227508544921875, 0.0207061767578125, 0.01480865478515625, 0.01160430908203125, 0.0240020751953125, 0.0279998779296875, -0.00839996337890625, 0.0186309814453125, -0.022979736328125, 0.0063629150390625, -0.034149169921875, -0.051177978515625, 0.00010180473327636719, 0.0714111328125, 0.02972412109375, 0.012939453125, 0.040924072265625, 0.022979736328125, 0.039398193359375, -0.0155029296875, -0.0165863037109375, -0.0487060546875, 0.0280303955078125, 0.006378173828125, 0.0022945404052734375, -0.055267333984375, 0.03350830078125, 0.07232666015625, -0.03387451171875, -0.02252197265625, -0.0172271728515625, -0.032806396484375, 0.0238037109375, 0.0439453125, 0.0245208740234375, -0.0601806640625, 0.03009033203125, 0.032623291015625, 0.01122283935546875, 0.034271240234375, -0.001068115234375, -0.00188446044921875, 0.034698486328125, -0.051910400390625, -0.0020904541015625, 0.0197906494140625, 0.05560302734375, -0.01311492919921875, -0.037994384765625, -0.01267242431640625, 0.0369873046875, -0.01116943359375, -0.01800537109375, 0.001155853271484375, 0.015869140625, -0.0282440185546875, -0.01509857177734375, 0.046722412109375, -0.0227813720703125, 0.045867919921875, -0.0092010498046875, -0.0218048095703125, 0.025421142578125, 0.007358551025390625, -0.0236663818359375, -0.037322998046875, -0.0343017578125, 0.0108184814453125, -0.004528045654296875, 0.0090789794921875, 0.0714111328125, 0.008941650390625, -0.00274658203125, -0.037200927734375, -0.01641845703125, 0.004184722900390625, 0.0264892578125, -0.0070953369140625, 0.009979248046875, 0.034881591796875, 0.01030731201171875, 0.01910400390625, 0.0189056396484375, -0.01434326171875, -0.006175994873046875, -0.06640625, -0.01206207275390625, -0.06585693359375, -0.00688934326171875, -0.0110321044921875, -0.01143646240234375, -0.025726318359375, -0.0280303955078125, 0.024658203125, 0.0029239654541015625, -0.028045654296875, -0.033447265625, 0.0007429122924804688, -0.082763671875, 0.038055419921875, 0.029815673828125, -0.006191253662109375, 0.0161285400390625, -0.05426025390625, 0.052947998046875, 0.03411865234375, 0.0189971923828125, -0.03240966796875, -0.00226593017578125, 0.00118255615234375, -0.0009899139404296875, 0.007045745849609375, 0.02392578125, 0.021026611328125, 0.0099945068359375, 0.048553466796875, 0.0218048095703125, -0.02398681640625, 0.0328369140625, 1.0371208190917969e-05, -0.04168701171875, 0.02362060546875, 0.08831787109375, 0.002132415771484375, -0.00333404541015625, 0.00617218017578125, 0.00907135009765625, -0.059173583984375, 0.03790283203125, 0.020477294921875, -0.0236358642578125, 0.0229949951171875, -0.05450439453125, 0.007183074951171875, -0.0338134765625, 0.07501220703125, -0.036590576171875, 0.04412841796875, -0.003162384033203125, -0.01045989990234375, -0.036102294921875, -0.009002685546875, 0.0219268798828125, 0.03179931640625, 0.0083770751953125, 0.037750244140625, 0.03814697265625, 0.0347900390625, -0.05902099609375, -0.03765869140625, 0.0274658203125, -0.01568603515625, 0.03961181640625, -0.0206298828125, -0.029815673828125, 0.010467529296875, 0.046630859375, 0.01239776611328125, 0.04095458984375, 0.08001708984375, 0.030426025390625, -0.001842498779296875, 0.006839752197265625, 0.00738525390625]\n"
          ]
        }
      ],
      "source": [
        "print(embeddings.embed_query(\"Hello mistral!\"))"
      ]
    },
    {
      "cell_type": "markdown",
      "metadata": {
        "id": "dzdoeTW7oejN"
      },
      "source": [
        "# vectore store in Chroma"
      ]
    },
    {
      "cell_type": "code",
      "execution_count": 23,
      "metadata": {
        "id": "rxaEWCt8Zbqo"
      },
      "outputs": [],
      "source": [
        "!rm -rf ./chroma_db"
      ]
    },
    {
      "cell_type": "code",
      "execution_count": 24,
      "metadata": {
        "id": "yejGScKdg3cs"
      },
      "outputs": [],
      "source": [
        "from langchain_chroma import Chroma\n",
        "\n",
        "vector_store = Chroma(\n",
        "    collection_name=\"PKM\",\n",
        "    embedding_function=embeddings,\n",
        "    persist_directory=\"./chroma_db\",\n",
        ")"
      ]
    },
    {
      "cell_type": "code",
      "execution_count": 25,
      "metadata": {
        "id": "4xIB9mXMhfUS"
      },
      "outputs": [],
      "source": [
        "from uuid import uuid4"
      ]
    },
    {
      "cell_type": "code",
      "execution_count": 74,
      "metadata": {
        "id": "zLnIZpwSCWSm"
      },
      "outputs": [],
      "source": [
        "# len(documents)"
      ]
    },
    {
      "cell_type": "code",
      "source": [
        "# assert len(documents.page_content) == 1"
      ],
      "metadata": {
        "id": "cCcQAVysZc6a"
      },
      "execution_count": 75,
      "outputs": []
    },
    {
      "cell_type": "code",
      "execution_count": 76,
      "metadata": {
        "id": "11Dlzj-CYowk"
      },
      "outputs": [],
      "source": [
        "# embeddings.embed_documents(documents[0].page_content)"
      ]
    },
    {
      "cell_type": "code",
      "source": [
        "# uuids = [str(uuid4()) for _ in range(len(documents))]\n",
        "\n",
        "# vector_store.add_documents(documents=documents, ids=uuids)"
      ],
      "metadata": {
        "id": "_AqHKKoFZSTm"
      },
      "execution_count": 77,
      "outputs": []
    },
    {
      "cell_type": "code",
      "execution_count": 29,
      "metadata": {
        "colab": {
          "base_uri": "https://localhost:8080/"
        },
        "id": "M7Bb6Cc7hPoq",
        "outputId": "9526d96c-9985-458c-8cbf-b9face65f9f3"
      },
      "outputs": [
        {
          "output_type": "execute_result",
          "data": {
            "text/plain": [
              "['ebd2e02a-7227-4a66-9702-17dd915b5885']"
            ]
          },
          "metadata": {},
          "execution_count": 29
        }
      ],
      "source": [
        "uuids = [str(uuid4()) for _ in range(len(doc))]\n",
        "\n",
        "vector_store.add_documents(documents=doc, ids=uuids)"
      ]
    },
    {
      "cell_type": "code",
      "execution_count": 30,
      "metadata": {
        "id": "6Gx-LA-qae3T"
      },
      "outputs": [],
      "source": [
        "query = \"شہری پولیس خدمت مرکز سے ڈرایئونگ لائسنس کی تجدید کے لئے درخواست جمع کروا سکتے ہیں۔\""
      ]
    },
    {
      "cell_type": "code",
      "execution_count": 36,
      "metadata": {
        "colab": {
          "base_uri": "https://localhost:8080/"
        },
        "id": "kaKOnp2ah5oG",
        "outputId": "84461e6d-ccd3-4b9b-98b7-7e7f7adb3d51"
      },
      "outputs": [
        {
          "output_type": "stream",
          "name": "stdout",
          "text": [
            "[{'seq_num': 1, 'source': '/content/Services.json'}] * [{'service_name': 'کریکٹر سرٹیفیکیٹ', 'description': 'با ہر کے ممالک جانے کے لیے، باہر کے مختلف اداروں میں ملازمت حاصل کرنے کےلیے اور وطن بدلی کے لیے پولیس کریکٹر سرٹیفیکیٹ کی ضرورت پڑتی ہے۔', 'required_documents': ['3 پاسپورٹ سایز تصاویر (ہلکے نیلے رنگ کا بیک گراوَنڈ، غیر مصدقہ)', 'شناختی کارڈ اصلی', 'شناختی کارڈ کی دو کاپیاں (گزیٹیڈ افسر سے مصدقہ)', 'اصلی پاسپورٹ', 'پاسپورٹ کی ایک کاپی (گزیٹیڈ افسر سے مصدقہ)', '50 روپیہ کا حلف نامہ (عہدیدار کمشنر سے تصدیق شدہ)', 'اختیار نامہ (اگر درخواست دہندہ ملک سے باہر ہے)'], 'processing_fee': '500 روپے', 'processing_time': '5 سرکاری دن', 'delivery_method': 'کوریئر', 'notes': 'کریکٹر سرٹیفیکیٹ صرف امیدوار کے خود آنے پر ہی جمع کرایا جاتا ہے۔ اگر امیدوار ملک سے باہر ہو تو اس کی جگہ رشتہ دار اختیار نامہ کے ساتھ درخواست دے سکتا ہے۔'}, {'service_name': 'پولیس ویریفیکیشن', 'description': 'پاکستان کے مختلف اداروں میں ملازمت کی درخواست کے لیے پولیس ریکارڈ کی عمومی تصدیق ضروری ہوتی ہے۔', 'required_documents': ['اصلی شناختی کارڈ', 'شناختی کارڈ کی دو کاپیاں'], 'processing_fee': '300 روپے', 'processing_time': '5 سرکاری دن', 'delivery_method': 'کوریئر'}, {'service_name': 'لرنرز ڈرایئونگ لائسنس', 'description': 'شہری کسی بھی پی کے ایم سے لرنرز ڈرایئونگ لائسنس حاصل کر سکتے ہیں۔', 'required_documents': ['اصلی شناختی کارڈ بمع ایک کاپی', 'ٹریفک قوایئد و قوانین کی کتاب', 'میڈیکل سرٹیفیکیٹ (50 سال سے بڑے امیدواروں کے لیے)'], 'age_limits': {'motorcycle_car': '18 سال', 'ltv_rickshaw_commercial_tractor': '21 سال'}, 'processing_fee': '60 روپے', 'processing_time': '15 منٹ', 'delivery_method': 'موقع پر', 'notes': 'لرنرز پرمٹ روزانہ جاری ہوتے ہیں اور ان کی معیاد 2 مہینے ہوتی ہے۔'}, {'service_name': 'ڈرایئونگ لائسنس کی تجدید', 'description': 'شہری پولیس خدمت مرکز سے ڈرایئونگ لائسنس کی تجدید کے لئے درخواست جمع کروا سکتے ہیں۔', 'required_documents': ['ضروری درخواست فارم ای فایئل کور کے ساتھ', '2 عدد پاسپورٹ سایئز تصویریں', 'شناختی کارڈ کی کاپی', 'اصلی ڈرایئونگ لائسنس', 'میڈیکل سرٹیفیکیٹ (50 سال سے بڑے امیدواروں کے لیے)', 'متعلقہ لائسنس کا ٹکٹ'], 'processing_fee': {'motorcycle_rickshaw': '500 روپے', 'car_ltv': '750 روپے', 'htv': '2000 روپے'}, 'processing_time': '5 سرکاری دن', 'delivery_method': 'کوریئر'}, {'service_name': 'بین الاقوامی ڈرایئونگ لائسنس', 'description': 'شہری پولیس خدمت مرکز سے بین الاقوامی ڈرایئونگ لائسنس کےلئے درخواست جمع کروا سکتے ہیں۔', 'required_documents': ['بین الاقوامی درخواست فارم فایئل کور کے ساتھ', 'شناختی کارڈ کی تصدیق شدہ کاپی', 'لاہور سے حاصل کردہ اصلی ڈرایئونگ لائسنس کی کاپی', 'پاکستانی پاسپورٹ کی کاپی بمع 2 مہینہ کا ویزا', '2 عدد پاسپورٹ سایئز تصویریں (تصدیق شدہ)'], 'processing_fee': {'court': '66 روپے', 'challan': '450 روپے'}, 'processing_time': '5 سرکاری دن', 'delivery_method': 'کوریئر', 'notes': 'درخواست دہندہ اپنا اصلی شناختی کارڈ، ڈرایئونگ لائسنس اور پاسپورٹ ساتھ لاےَ گا/گی۔'}, {'service_name': 'نقل ڈرایئونگ لائسنس', 'description': 'شہری پولیس خدمت مرکز سے نقل ڈرایئونگ لائسنس کےلئے درخواست جمع کروا سکتے ہیں۔', 'required_documents': ['ضروری نقل درخواست فارم', 'شناختی کارڈ کی تصدیق شدہ کاپی', '2 عدد پاسپورٹ سایئز تصویریں', 'کمپیوٹر سیکشن سے کمپیوٹرائزڈ لائسنس رپورٹ', 'پولیس ایف آیَ آر', 'متعلقہ لائسنس کا ٹکٹ'], 'processing_fee': {'motorcycle': '100 روپے', 'car_ltv': '300 روپے', 'htv': '200 روپے'}, 'processing_time': '5 سرکاری دن', 'delivery_method': 'کوریئر'}, {'service_name': 'ملازم کی رجسٹریشن', 'description': 'کسی بھی گھریلو یا دیگر ملازم کو نوکری پر رکھتے وقت اس کا اندراج قریبی پولیس تھانے میں کروانا ہوتا ہے۔', 'required_documents': ['درخواست دہندہ کا اصلی شناختی کارڈ بمع 2 کاپیاں', 'ملازم کے شناختی کارڈ کی 2 کاپیاں', 'ملازم کی 2 عدد پاسپورٹ سایئز تصاویر', 'ایفیڈوڈ بمع 2 گواہوں کی تصدیق'], 'processing_fee': 'مفت', 'processing_time': '15 منٹ', 'delivery_method': 'موقع پر'}, {'service_name': 'کراےَ دار کی رجسٹریشن', 'description': 'گھر یا ہاسٹل کراےَ پر دینے کے لیے پولیس تھانے یا خدمت مرکز میں رجسٹریشن کرانا ضروری ہے۔', 'required_documents': ['مالک مکان کا شناختی کارڈ اور ایک کاپی', 'کراےَ دار کا شناختی کارڈ اور ایک کاپی', 'شٹامپ پیپر پر کراےَ کے معاہدہ کی کاپی'], 'processing_fee': 'مفت', 'processing_time': '15 منٹ', 'delivery_method': 'موقع پر'}, {'service_name': 'گاڑی کی تصدیق', 'description': 'گاڑی کی خرید و فروخت یا نقل و حمل سے قبل گاڑی کی تصدیق ضروری ہے۔', 'required_documents': ['شناختی کارڈ بمع دو کاپیاں', 'گاڑی کے اصل کاغذات اور ایک کاپی', 'گاڑی کے مالک کا کمپیوٹرائزڈ شناختی کارڈ', 'این او سی اگر گاڑی بینک کے نام پر ہے', 'ٹی پی میسج اور ٹرانسفر کاغذات اگر گاڑی بر آمد کی گیَ ہے'], 'processing_fee': {'motorcycle': '500 روپے', 'car_ltv_htv': '2000 روپے'}, 'processing_time': '30 منٹ', 'delivery_method': 'موقع پر'}, {'service_name': 'ڈرائیونگ لائسنس کی توثیق', 'description': 'شہری پولیس خدمت مرکز سے ڈرایئونگ لائسنس کی توثیق کے لئے درخواست جمع کروا سکتے ہیں۔', 'required_documents': ['ضروری درخواست فارم توثیق فایئل کور کے ساتھ', 'میڈیکل رپورٹ', 'شناختی کارڈ کی کاپی', '2 مصدقہ تازہ تصاویر', 'کم سے کم چھ ہفتے کا حقیقی لرنر پرمٹ', 'متعلقہ لائسنس کا ٹکٹ', 'پہلا لائسنس منسلک کیا جائے گا'], 'processing_fee': 'مفت', 'processing_time': '15 منٹ', 'delivery_method': 'موقع پر', 'notes': 'مزید تفصیل کے لئے برائے مہربانی ٹریفک پولیس انکوائری آفس سے رابطہ کریں۔'}, {'service_name': 'گمشدگی رپورٹ', 'description': 'ضروری کاغذات جیسے شناختی کارڈ، ڈرایئونگ لائسنس، اے۔ٹی۔ایم۔ کارڈ، تعلیمی کاغذات اور دوسری اشیاء اکثر گم یا چوری ہو جاتی ہیں۔', 'required_documents': ['درخواست دہندہ کا اصلی شناختی کارڈ بمع 2 کاپیاں', 'گمشدہ دستاویزات کی کاپی اگر موجود ہو', 'کسی بھی امدادی دستاویز کی کاپی'], 'processing_fee': 'مفت', 'processing_time': '15 منٹ', 'delivery_method': 'موقع پر'}, {'service_name': 'جرائم رپورٹ', 'description': 'پولیس خدمت مرکز کسی بھی جرم کی رپورٹ درج کرانے کی سہولت فراہم کرتا ہے۔', 'required_documents': ['درخواست دہندہ کا اصلی شناختی کارڈ اور 2 کاپیاں', 'درخواست دہندہ کی تحریری درخواست اگر موجود ہو'], 'processing_fee': 'مفت', 'processing_time': '15 منٹ', 'delivery_method': 'موقع پر'}, {'service_name': 'خواتین پر تشدد رپورٹ', 'description': 'پولیس خدمت مرکز خواتین پر ہونے والے تشدد کی شکایات کے اندراج اور قانونی معاونت فراہم کرتا ہے۔', 'required_documents': ['درخواست دہندہ کا اصلی شناختی کارڈ اور 2 کاپیاں', 'درخواست دہندہ کی تحریری درخواست اگر موجود ہو'], 'processing_fee': 'مفت', 'processing_time': '15 منٹ', 'delivery_method': 'موقع پر'}, {'service_name': 'ایف۔آئ۔آر۔کی کاپی', 'description': 'شہری کسی بھی پی کے ایم سے اپنی بنیادی معلومات فراہم کر کے ایف آئی آر کی کاپی حاصل کر سکتے ہیں۔', 'required_documents': ['درخواست دہندہ کا اصلی شناختی کارڈ بمع 2 کاپیاں', 'ایف آیَ آر حاصل کرنے کی وجہ', 'ایف آیَ آر نمبر اور پولیس تھانہ'], 'processing_fee': 'مفت', 'processing_time': '15 منٹ', 'delivery_method': 'موقع پر'}]\n"
          ]
        }
      ],
      "source": [
        "results = vector_store.similarity_search(\n",
        "    query,\n",
        "    k=1,\n",
        "    # filter={\"service_name\": \"\"},\n",
        ")\n",
        "# print(results)\n",
        "\n",
        "for res in results:\n",
        "    print(f\"[{res.metadata}] * {res.page_content}\")"
      ]
    },
    {
      "cell_type": "code",
      "execution_count": 37,
      "metadata": {
        "colab": {
          "base_uri": "https://localhost:8080/"
        },
        "id": "5Z4CQTe-itek",
        "outputId": "10a00190-9219-4f66-d131-529e26a3b4ba"
      },
      "outputs": [
        {
          "output_type": "execute_result",
          "data": {
            "text/plain": [
              "[Document(metadata={'seq_num': 1, 'source': '/content/Services.json'}, page_content=\"[{'service_name': 'کریکٹر سرٹیفیکیٹ', 'description': 'با ہر کے ممالک جانے کے لیے، باہر کے مختلف اداروں میں ملازمت حاصل کرنے کےلیے اور وطن بدلی کے لیے پولیس کریکٹر سرٹیفیکیٹ کی ضرورت پڑتی ہے۔', 'required_documents': ['3 پاسپورٹ سایز تصاویر (ہلکے نیلے رنگ کا بیک گراوَنڈ، غیر مصدقہ)', 'شناختی کارڈ اصلی', 'شناختی کارڈ کی دو کاپیاں (گزیٹیڈ افسر سے مصدقہ)', 'اصلی پاسپورٹ', 'پاسپورٹ کی ایک کاپی (گزیٹیڈ افسر سے مصدقہ)', '50 روپیہ کا حلف نامہ (عہدیدار کمشنر سے تصدیق شدہ)', 'اختیار نامہ (اگر درخواست دہندہ ملک سے باہر ہے)'], 'processing_fee': '500 روپے', 'processing_time': '5 سرکاری دن', 'delivery_method': 'کوریئر', 'notes': 'کریکٹر سرٹیفیکیٹ صرف امیدوار کے خود آنے پر ہی جمع کرایا جاتا ہے۔ اگر امیدوار ملک سے باہر ہو تو اس کی جگہ رشتہ دار اختیار نامہ کے ساتھ درخواست دے سکتا ہے۔'}, {'service_name': 'پولیس ویریفیکیشن', 'description': 'پاکستان کے مختلف اداروں میں ملازمت کی درخواست کے لیے پولیس ریکارڈ کی عمومی تصدیق ضروری ہوتی ہے۔', 'required_documents': ['اصلی شناختی کارڈ', 'شناختی کارڈ کی دو کاپیاں'], 'processing_fee': '300 روپے', 'processing_time': '5 سرکاری دن', 'delivery_method': 'کوریئر'}, {'service_name': 'لرنرز ڈرایئونگ لائسنس', 'description': 'شہری کسی بھی پی کے ایم سے لرنرز ڈرایئونگ لائسنس حاصل کر سکتے ہیں۔', 'required_documents': ['اصلی شناختی کارڈ بمع ایک کاپی', 'ٹریفک قوایئد و قوانین کی کتاب', 'میڈیکل سرٹیفیکیٹ (50 سال سے بڑے امیدواروں کے لیے)'], 'age_limits': {'motorcycle_car': '18 سال', 'ltv_rickshaw_commercial_tractor': '21 سال'}, 'processing_fee': '60 روپے', 'processing_time': '15 منٹ', 'delivery_method': 'موقع پر', 'notes': 'لرنرز پرمٹ روزانہ جاری ہوتے ہیں اور ان کی معیاد 2 مہینے ہوتی ہے۔'}, {'service_name': 'ڈرایئونگ لائسنس کی تجدید', 'description': 'شہری پولیس خدمت مرکز سے ڈرایئونگ لائسنس کی تجدید کے لئے درخواست جمع کروا سکتے ہیں۔', 'required_documents': ['ضروری درخواست فارم ای فایئل کور کے ساتھ', '2 عدد پاسپورٹ سایئز تصویریں', 'شناختی کارڈ کی کاپی', 'اصلی ڈرایئونگ لائسنس', 'میڈیکل سرٹیفیکیٹ (50 سال سے بڑے امیدواروں کے لیے)', 'متعلقہ لائسنس کا ٹکٹ'], 'processing_fee': {'motorcycle_rickshaw': '500 روپے', 'car_ltv': '750 روپے', 'htv': '2000 روپے'}, 'processing_time': '5 سرکاری دن', 'delivery_method': 'کوریئر'}, {'service_name': 'بین الاقوامی ڈرایئونگ لائسنس', 'description': 'شہری پولیس خدمت مرکز سے بین الاقوامی ڈرایئونگ لائسنس کےلئے درخواست جمع کروا سکتے ہیں۔', 'required_documents': ['بین الاقوامی درخواست فارم فایئل کور کے ساتھ', 'شناختی کارڈ کی تصدیق شدہ کاپی', 'لاہور سے حاصل کردہ اصلی ڈرایئونگ لائسنس کی کاپی', 'پاکستانی پاسپورٹ کی کاپی بمع 2 مہینہ کا ویزا', '2 عدد پاسپورٹ سایئز تصویریں (تصدیق شدہ)'], 'processing_fee': {'court': '66 روپے', 'challan': '450 روپے'}, 'processing_time': '5 سرکاری دن', 'delivery_method': 'کوریئر', 'notes': 'درخواست دہندہ اپنا اصلی شناختی کارڈ، ڈرایئونگ لائسنس اور پاسپورٹ ساتھ لاےَ گا/گی۔'}, {'service_name': 'نقل ڈرایئونگ لائسنس', 'description': 'شہری پولیس خدمت مرکز سے نقل ڈرایئونگ لائسنس کےلئے درخواست جمع کروا سکتے ہیں۔', 'required_documents': ['ضروری نقل درخواست فارم', 'شناختی کارڈ کی تصدیق شدہ کاپی', '2 عدد پاسپورٹ سایئز تصویریں', 'کمپیوٹر سیکشن سے کمپیوٹرائزڈ لائسنس رپورٹ', 'پولیس ایف آیَ آر', 'متعلقہ لائسنس کا ٹکٹ'], 'processing_fee': {'motorcycle': '100 روپے', 'car_ltv': '300 روپے', 'htv': '200 روپے'}, 'processing_time': '5 سرکاری دن', 'delivery_method': 'کوریئر'}, {'service_name': 'ملازم کی رجسٹریشن', 'description': 'کسی بھی گھریلو یا دیگر ملازم کو نوکری پر رکھتے وقت اس کا اندراج قریبی پولیس تھانے میں کروانا ہوتا ہے۔', 'required_documents': ['درخواست دہندہ کا اصلی شناختی کارڈ بمع 2 کاپیاں', 'ملازم کے شناختی کارڈ کی 2 کاپیاں', 'ملازم کی 2 عدد پاسپورٹ سایئز تصاویر', 'ایفیڈوڈ بمع 2 گواہوں کی تصدیق'], 'processing_fee': 'مفت', 'processing_time': '15 منٹ', 'delivery_method': 'موقع پر'}, {'service_name': 'کراےَ دار کی رجسٹریشن', 'description': 'گھر یا ہاسٹل کراےَ پر دینے کے لیے پولیس تھانے یا خدمت مرکز میں رجسٹریشن کرانا ضروری ہے۔', 'required_documents': ['مالک مکان کا شناختی کارڈ اور ایک کاپی', 'کراےَ دار کا شناختی کارڈ اور ایک کاپی', 'شٹامپ پیپر پر کراےَ کے معاہدہ کی کاپی'], 'processing_fee': 'مفت', 'processing_time': '15 منٹ', 'delivery_method': 'موقع پر'}, {'service_name': 'گاڑی کی تصدیق', 'description': 'گاڑی کی خرید و فروخت یا نقل و حمل سے قبل گاڑی کی تصدیق ضروری ہے۔', 'required_documents': ['شناختی کارڈ بمع دو کاپیاں', 'گاڑی کے اصل کاغذات اور ایک کاپی', 'گاڑی کے مالک کا کمپیوٹرائزڈ شناختی کارڈ', 'این او سی اگر گاڑی بینک کے نام پر ہے', 'ٹی پی میسج اور ٹرانسفر کاغذات اگر گاڑی بر آمد کی گیَ ہے'], 'processing_fee': {'motorcycle': '500 روپے', 'car_ltv_htv': '2000 روپے'}, 'processing_time': '30 منٹ', 'delivery_method': 'موقع پر'}, {'service_name': 'ڈرائیونگ لائسنس کی توثیق', 'description': 'شہری پولیس خدمت مرکز سے ڈرایئونگ لائسنس کی توثیق کے لئے درخواست جمع کروا سکتے ہیں۔', 'required_documents': ['ضروری درخواست فارم توثیق فایئل کور کے ساتھ', 'میڈیکل رپورٹ', 'شناختی کارڈ کی کاپی', '2 مصدقہ تازہ تصاویر', 'کم سے کم چھ ہفتے کا حقیقی لرنر پرمٹ', 'متعلقہ لائسنس کا ٹکٹ', 'پہلا لائسنس منسلک کیا جائے گا'], 'processing_fee': 'مفت', 'processing_time': '15 منٹ', 'delivery_method': 'موقع پر', 'notes': 'مزید تفصیل کے لئے برائے مہربانی ٹریفک پولیس انکوائری آفس سے رابطہ کریں۔'}, {'service_name': 'گمشدگی رپورٹ', 'description': 'ضروری کاغذات جیسے شناختی کارڈ، ڈرایئونگ لائسنس، اے۔ٹی۔ایم۔ کارڈ، تعلیمی کاغذات اور دوسری اشیاء اکثر گم یا چوری ہو جاتی ہیں۔', 'required_documents': ['درخواست دہندہ کا اصلی شناختی کارڈ بمع 2 کاپیاں', 'گمشدہ دستاویزات کی کاپی اگر موجود ہو', 'کسی بھی امدادی دستاویز کی کاپی'], 'processing_fee': 'مفت', 'processing_time': '15 منٹ', 'delivery_method': 'موقع پر'}, {'service_name': 'جرائم رپورٹ', 'description': 'پولیس خدمت مرکز کسی بھی جرم کی رپورٹ درج کرانے کی سہولت فراہم کرتا ہے۔', 'required_documents': ['درخواست دہندہ کا اصلی شناختی کارڈ اور 2 کاپیاں', 'درخواست دہندہ کی تحریری درخواست اگر موجود ہو'], 'processing_fee': 'مفت', 'processing_time': '15 منٹ', 'delivery_method': 'موقع پر'}, {'service_name': 'خواتین پر تشدد رپورٹ', 'description': 'پولیس خدمت مرکز خواتین پر ہونے والے تشدد کی شکایات کے اندراج اور قانونی معاونت فراہم کرتا ہے۔', 'required_documents': ['درخواست دہندہ کا اصلی شناختی کارڈ اور 2 کاپیاں', 'درخواست دہندہ کی تحریری درخواست اگر موجود ہو'], 'processing_fee': 'مفت', 'processing_time': '15 منٹ', 'delivery_method': 'موقع پر'}, {'service_name': 'ایف۔آئ۔آر۔کی کاپی', 'description': 'شہری کسی بھی پی کے ایم سے اپنی بنیادی معلومات فراہم کر کے ایف آئی آر کی کاپی حاصل کر سکتے ہیں۔', 'required_documents': ['درخواست دہندہ کا اصلی شناختی کارڈ بمع 2 کاپیاں', 'ایف آیَ آر حاصل کرنے کی وجہ', 'ایف آیَ آر نمبر اور پولیس تھانہ'], 'processing_fee': 'مفت', 'processing_time': '15 منٹ', 'delivery_method': 'موقع پر'}]\")]"
            ]
          },
          "metadata": {},
          "execution_count": 37
        }
      ],
      "source": [
        "retriever = vector_store.as_retriever(\n",
        "    search_type=\"similarity_score_threshold\", search_kwargs={\"k\": 1, \"score_threshold\": 0.5}\n",
        ")\n",
        "retriever.invoke(query)"
      ]
    },
    {
      "cell_type": "markdown",
      "metadata": {
        "id": "A2qys4dFokiM"
      },
      "source": [
        "# chat prototype"
      ]
    },
    {
      "cell_type": "code",
      "source": [
        "assert len(doc) == 1\n",
        "print(f\"Total characters: {len(doc[0].page_content)}\")"
      ],
      "metadata": {
        "colab": {
          "base_uri": "https://localhost:8080/"
        },
        "id": "11ZVtzFERiHW",
        "outputId": "5a0e447d-bb6b-4555-81e6-fd29ce39fef7"
      },
      "execution_count": 49,
      "outputs": [
        {
          "output_type": "stream",
          "name": "stdout",
          "text": [
            "Total characters: 6561\n"
          ]
        }
      ]
    },
    {
      "cell_type": "code",
      "execution_count": 58,
      "metadata": {
        "id": "Iz_DULjvkaVN"
      },
      "outputs": [],
      "source": [
        "from langchain import hub\n",
        "\n",
        "prompt = hub.pull(\"rlm/rag-prompt\")"
      ]
    },
    {
      "cell_type": "code",
      "execution_count": 52,
      "metadata": {
        "id": "u6sbWLVGmYiW"
      },
      "outputs": [],
      "source": [
        "from langchain_core.documents import Document\n",
        "from typing_extensions import List, TypedDict\n",
        "\n",
        "\n",
        "class State(TypedDict):\n",
        "    question: str\n",
        "    context: List[Document]\n",
        "    answer: str"
      ]
    },
    {
      "cell_type": "code",
      "execution_count": 53,
      "metadata": {
        "id": "IZSTKZpQmilD"
      },
      "outputs": [],
      "source": [
        "def retrieve(state: State):\n",
        "    retrieved_docs = vector_store.similarity_search(state[\"question\"])\n",
        "    return {\"context\": retrieved_docs}\n",
        "\n",
        "\n",
        "def generate(state: State):\n",
        "    docs_content = \"\\n\\n\".join(doc.page_content for doc in state[\"context\"])\n",
        "    messages = prompt.invoke({\"question\": state[\"question\"], \"context\": docs_content})\n",
        "    response = model.invoke(messages)\n",
        "    return {\"answer\": response.content}"
      ]
    },
    {
      "cell_type": "code",
      "execution_count": 54,
      "metadata": {
        "id": "4z4tWNv2mmjr"
      },
      "outputs": [],
      "source": [
        "from langgraph.graph import START, StateGraph\n",
        "\n",
        "graph_builder = StateGraph(State).add_sequence([retrieve, generate])\n",
        "graph_builder.add_edge(START, \"retrieve\")\n",
        "graph = graph_builder.compile()"
      ]
    },
    {
      "cell_type": "code",
      "execution_count": 55,
      "metadata": {
        "id": "whRRX08smqk4",
        "colab": {
          "base_uri": "https://localhost:8080/",
          "height": 251
        },
        "outputId": "18a23370-3c50-4918-98ab-7d44ad7740e7"
      },
      "outputs": [
        {
          "output_type": "display_data",
          "data": {
            "image/png": "[encoded data removed]",
            "text/plain": [
              "<IPython.core.display.Image object>"
            ]
          },
          "metadata": {}
        }
      ],
      "source": [
        "from IPython.display import Image, display\n",
        "\n",
        "display(Image(graph.get_graph().draw_mermaid_png()))"
      ]
    },
    {
      "cell_type": "code",
      "execution_count": 56,
      "metadata": {
        "colab": {
          "base_uri": "https://localhost:8080/"
        },
        "id": "29cL8CRUmzEv",
        "outputId": "df475056-13dc-4837-94a2-b08283cf31e9"
      },
      "outputs": [
        {
          "output_type": "stream",
          "name": "stderr",
          "text": [
            "WARNING:chromadb.segment.impl.vector.local_persistent_hnsw:Number of requested results 4 is greater than number of elements in index 1, updating n_results = 1\n"
          ]
        },
        {
          "output_type": "stream",
          "name": "stdout",
          "text": [
            "Answer: پولیس کریکٹر سرٹیفیکیٹ بین الاقوامی سفر، ملازمت، اور وطن بدلی کے لیے ضروری ہے۔ اس کے لیے ضروری دستاویزات میں 3 پاسپورٹ سائز تصاویر، شناختی کارڈ، اور پاسپورٹ شامل ہیں۔ فیس 500 روپے اور پروسیسنگ ٹائم 5 سرکاری دن ہے۔\n"
          ]
        }
      ],
      "source": [
        "result = graph.invoke({\"question\": \"کریکٹر سرٹیفیکیٹ\"})\n",
        "\n",
        "print(f'Answer: {result[\"answer\"]}')"
      ]
    },
    {
      "cell_type": "code",
      "source": [
        "pprint(f'Answer: {result[\"answer\"]}')"
      ],
      "metadata": {
        "colab": {
          "base_uri": "https://localhost:8080/"
        },
        "id": "Pket_2iTSj-B",
        "outputId": "ceb95e64-e168-44c6-c233-7add4cf200a7"
      },
      "execution_count": 57,
      "outputs": [
        {
          "output_type": "stream",
          "name": "stdout",
          "text": [
            "('Answer: پولیس کریکٹر سرٹیفیکیٹ بین الاقوامی سفر، ملازمت، اور وطن بدلی کے لیے '\n",
            " 'ضروری ہے۔ اس کے لیے ضروری دستاویزات میں 3 پاسپورٹ سائز تصاویر، شناختی کارڈ، '\n",
            " 'اور پاسپورٹ شامل ہیں۔ فیس 500 روپے اور پروسیسنگ ٹائم 5 سرکاری دن ہے۔')\n"
          ]
        }
      ]
    },
    {
      "cell_type": "markdown",
      "source": [
        "\n",
        "\n",
        "---\n",
        "\n"
      ],
      "metadata": {
        "id": "MoWTehpPWJ7C"
      }
    },
    {
      "cell_type": "code",
      "source": [
        "from langgraph.graph import MessagesState, StateGraph\n",
        "\n",
        "graph_builder = StateGraph(MessagesState)"
      ],
      "metadata": {
        "id": "1X5pqaOHWMWF"
      },
      "execution_count": 59,
      "outputs": []
    },
    {
      "cell_type": "code",
      "execution_count": 60,
      "metadata": {
        "id": "TJoSbznzkflJ"
      },
      "outputs": [],
      "source": [
        "from langchain_core.tools import tool\n",
        "\n",
        "\n",
        "@tool(response_format=\"content_and_artifact\")\n",
        "def retrieve(query: str):\n",
        "    \"\"\"Retrieve information related to a query.\"\"\"\n",
        "    retrieved_docs = vector_store.similarity_search(query, k=2)\n",
        "    serialized = \"\\n\\n\".join(\n",
        "        (f\"Source: {doc.metadata}\\n\" f\"Content: {doc.page_content}\")\n",
        "        for doc in retrieved_docs\n",
        "    )\n",
        "    return serialized, retrieved_docs"
      ]
    },
    {
      "cell_type": "code",
      "source": [
        "from langchain_core.messages import SystemMessage\n",
        "from langgraph.prebuilt import ToolNode\n",
        "\n",
        "def query_or_respond(state: MessagesState):\n",
        "    \"\"\"Generate tool call for retrieval or respond.\"\"\"\n",
        "    llm_with_tools = model.bind_tools([retrieve])\n",
        "    response = llm_with_tools.invoke(state[\"messages\"])\n",
        "\n",
        "    return {\"messages\": [response]}\n",
        "\n",
        "\n",
        "tools = ToolNode([retrieve])"
      ],
      "metadata": {
        "id": "VFiT8_S5XBdc"
      },
      "execution_count": 78,
      "outputs": []
    },
    {
      "cell_type": "code",
      "source": [
        "def generate(state: MessagesState):\n",
        "    \"\"\"Generate answer.\"\"\"\n",
        "    recent_tool_messages = []\n",
        "    for message in reversed(state[\"messages\"]):\n",
        "        if message.type == \"tool\":\n",
        "            recent_tool_messages.append(message)\n",
        "        else:\n",
        "            break\n",
        "    tool_messages = recent_tool_messages[::-1]\n",
        "\n",
        "    docs_content = \"\\n\\n\".join(doc.content for doc in tool_messages)\n",
        "    system_message_content = (\"\"\"\n",
        "    مندرجہ ذیل سیاق و سباق کے ٹکڑوں کا استعمال کرتے ہوئے سوال کا جواب دیں۔\n",
        "اگر آپ جواب نہیں جانتے تو صرف یہ کہیں کہ \"مجھے معلوم نہیں\"، جواب بنانے کی کوشش نہ کریں۔\n",
        "ہمیشہ تین جملوں میں مختصر اور جامع جواب دیں۔\n",
        "ہمیشہ جواب کے آخر میں \"سوال کرنے کا شکریہ!\" ضرور کہیں۔\n",
        "    \"\"\"\n",
        "        f\"{docs_content}\"\n",
        "    )\n",
        "    conversation_messages = [\n",
        "        message\n",
        "        for message in state[\"messages\"]\n",
        "        if message.type in (\"human\", \"system\")\n",
        "        or (message.type == \"ai\" and not message.tool_calls)\n",
        "    ]\n",
        "    prompt = [SystemMessage(system_message_content)] + conversation_messages\n",
        "\n",
        "    response = model.invoke(prompt)\n",
        "    return {\"messages\": [response]}"
      ],
      "metadata": {
        "id": "Q1qJDyMCZx3q"
      },
      "execution_count": 80,
      "outputs": []
    },
    {
      "cell_type": "code",
      "source": [
        "from langgraph.graph import END\n",
        "from langgraph.prebuilt import ToolNode, tools_condition\n",
        "\n",
        "graph_builder.add_node(query_or_respond)\n",
        "graph_builder.add_node(tools)\n",
        "graph_builder.add_node(generate)\n",
        "\n",
        "graph_builder.set_entry_point(\"query_or_respond\")\n",
        "graph_builder.add_conditional_edges(\n",
        "    \"query_or_respond\",\n",
        "    tools_condition,\n",
        "    {END: END, \"tools\": \"tools\"},\n",
        ")\n",
        "graph_builder.add_edge(\"tools\", \"generate\")\n",
        "graph_builder.add_edge(\"generate\", END)\n",
        "\n",
        "graph = graph_builder.compile()"
      ],
      "metadata": {
        "id": "JSBaew_xXQRN"
      },
      "execution_count": 62,
      "outputs": []
    },
    {
      "cell_type": "code",
      "source": [
        "from IPython.display import Image, display\n",
        "\n",
        "display(Image(graph.get_graph().draw_mermaid_png()))"
      ],
      "metadata": {
        "colab": {
          "base_uri": "https://localhost:8080/",
          "height": 449
        },
        "id": "e23MwvsvXTD5",
        "outputId": "0725f5ec-56ac-4cf9-ddc3-fb766ef85ef3"
      },
      "execution_count": 63,
      "outputs": [
        {
          "output_type": "display_data",
          "data": {
            "image/png": "[encoded data removed]",
            "text/plain": [
              "<IPython.core.display.Image object>"
            ]
          },
          "metadata": {}
        }
      ]
    },
    {
      "cell_type": "code",
      "source": [
        "input_message = \"کریکٹر سرٹیفیکیٹ\"\n",
        "\n",
        "for step in graph.stream(\n",
        "    {\"messages\": [{\"role\": \"user\", \"content\": input_message}]},\n",
        "    stream_mode=\"values\",\n",
        "):\n",
        "    step[\"messages\"][-1].pretty_print()"
      ],
      "metadata": {
        "colab": {
          "base_uri": "https://localhost:8080/"
        },
        "id": "Y_JipPq1XWc8",
        "outputId": "7b638299-05a0-4e93-c069-bed8975660ca"
      },
      "execution_count": 67,
      "outputs": [
        {
          "output_type": "stream",
          "name": "stdout",
          "text": [
            "================================\u001b[1m Human Message \u001b[0m=================================\n",
            "\n",
            "کریکٹر سرٹیفیکیٹ\n",
            "==================================\u001b[1m Ai Message \u001b[0m==================================\n",
            "\n",
            "آپ کریکٹ سرٹیفیکیٹ کے بارے میں جاننا چاہتے ہیں؟ کریکٹ سرٹیفیکیٹ عام طور پر کریکٹ کھیل میں کارکردگی یا حصہ لینے پر دیا جاتا ہے۔ یہ سرٹیفیکیٹ کسی کھلاڑی کی کارکردگی کو تسلیم کرنے کے لیے دیا جاتا ہے اور اس میں کھلاڑی کا نام، ایوارڈ کی تفصیلات، اور تاریخ شامل ہوتی ہے۔\n",
            "\n",
            "اگر آپ کو کسی خاص سرٹیفیکیٹ کی تفصیلات چاہیے ہیں، تو براہ کرم مزید معلومات فراہم کریں تاکہ میں آپ کی مدد کر سکوں۔\n"
          ]
        }
      ]
    },
    {
      "cell_type": "code",
      "source": [
        "from langgraph.checkpoint.memory import MemorySaver\n",
        "\n",
        "memory = MemorySaver()\n",
        "graph = graph_builder.compile(checkpointer=memory)\n",
        "\n",
        "config = {\"configurable\": {\"thread_id\": \"abc123\"}} # random thread_id"
      ],
      "metadata": {
        "id": "YNXny3G-YDMc"
      },
      "execution_count": 81,
      "outputs": []
    },
    {
      "cell_type": "code",
      "source": [
        "for step in graph.stream(\n",
        "    {\"messages\": [{\"role\": \"user\", \"content\": input_message}]},\n",
        "    stream_mode=\"values\",\n",
        "    config=config,\n",
        "):\n",
        "    step[\"messages\"][-1].pretty_print()"
      ],
      "metadata": {
        "colab": {
          "base_uri": "https://localhost:8080/"
        },
        "id": "bTeutrgpYMmh",
        "outputId": "c01d169d-d16e-4995-cb96-53e2dae10d83"
      },
      "execution_count": 71,
      "outputs": [
        {
          "output_type": "stream",
          "name": "stdout",
          "text": [
            "================================\u001b[1m Human Message \u001b[0m=================================\n",
            "\n",
            "کریکٹر سرٹیفیکیٹ\n",
            "==================================\u001b[1m Ai Message \u001b[0m==================================\n",
            "Tool Calls:\n",
            "  retrieve (fq5Y9q3ow)\n",
            " Call ID: fq5Y9q3ow\n",
            "  Args:\n",
            "    query: کریکٹر سرٹیفیکیٹ\n"
          ]
        },
        {
          "output_type": "stream",
          "name": "stderr",
          "text": [
            "WARNING:chromadb.segment.impl.vector.local_persistent_hnsw:Number of requested results 2 is greater than number of elements in index 1, updating n_results = 1\n"
          ]
        },
        {
          "output_type": "stream",
          "name": "stdout",
          "text": [
            "=================================\u001b[1m Tool Message \u001b[0m=================================\n",
            "Name: retrieve\n",
            "\n",
            "Source: {'seq_num': 1, 'source': '/content/Services.json'}\n",
            "Content: [{'service_name': 'کریکٹر سرٹیفیکیٹ', 'description': 'با ہر کے ممالک جانے کے لیے، باہر کے مختلف اداروں میں ملازمت حاصل کرنے کےلیے اور وطن بدلی کے لیے پولیس کریکٹر سرٹیفیکیٹ کی ضرورت پڑتی ہے۔', 'required_documents': ['3 پاسپورٹ سایز تصاویر (ہلکے نیلے رنگ کا بیک گراوَنڈ، غیر مصدقہ)', 'شناختی کارڈ اصلی', 'شناختی کارڈ کی دو کاپیاں (گزیٹیڈ افسر سے مصدقہ)', 'اصلی پاسپورٹ', 'پاسپورٹ کی ایک کاپی (گزیٹیڈ افسر سے مصدقہ)', '50 روپیہ کا حلف نامہ (عہدیدار کمشنر سے تصدیق شدہ)', 'اختیار نامہ (اگر درخواست دہندہ ملک سے باہر ہے)'], 'processing_fee': '500 روپے', 'processing_time': '5 سرکاری دن', 'delivery_method': 'کوریئر', 'notes': 'کریکٹر سرٹیفیکیٹ صرف امیدوار کے خود آنے پر ہی جمع کرایا جاتا ہے۔ اگر امیدوار ملک سے باہر ہو تو اس کی جگہ رشتہ دار اختیار نامہ کے ساتھ درخواست دے سکتا ہے۔'}, {'service_name': 'پولیس ویریفیکیشن', 'description': 'پاکستان کے مختلف اداروں میں ملازمت کی درخواست کے لیے پولیس ریکارڈ کی عمومی تصدیق ضروری ہوتی ہے۔', 'required_documents': ['اصلی شناختی کارڈ', 'شناختی کارڈ کی دو کاپیاں'], 'processing_fee': '300 روپے', 'processing_time': '5 سرکاری دن', 'delivery_method': 'کوریئر'}, {'service_name': 'لرنرز ڈرایئونگ لائسنس', 'description': 'شہری کسی بھی پی کے ایم سے لرنرز ڈرایئونگ لائسنس حاصل کر سکتے ہیں۔', 'required_documents': ['اصلی شناختی کارڈ بمع ایک کاپی', 'ٹریفک قوایئد و قوانین کی کتاب', 'میڈیکل سرٹیفیکیٹ (50 سال سے بڑے امیدواروں کے لیے)'], 'age_limits': {'motorcycle_car': '18 سال', 'ltv_rickshaw_commercial_tractor': '21 سال'}, 'processing_fee': '60 روپے', 'processing_time': '15 منٹ', 'delivery_method': 'موقع پر', 'notes': 'لرنرز پرمٹ روزانہ جاری ہوتے ہیں اور ان کی معیاد 2 مہینے ہوتی ہے۔'}, {'service_name': 'ڈرایئونگ لائسنس کی تجدید', 'description': 'شہری پولیس خدمت مرکز سے ڈرایئونگ لائسنس کی تجدید کے لئے درخواست جمع کروا سکتے ہیں۔', 'required_documents': ['ضروری درخواست فارم ای فایئل کور کے ساتھ', '2 عدد پاسپورٹ سایئز تصویریں', 'شناختی کارڈ کی کاپی', 'اصلی ڈرایئونگ لائسنس', 'میڈیکل سرٹیفیکیٹ (50 سال سے بڑے امیدواروں کے لیے)', 'متعلقہ لائسنس کا ٹکٹ'], 'processing_fee': {'motorcycle_rickshaw': '500 روپے', 'car_ltv': '750 روپے', 'htv': '2000 روپے'}, 'processing_time': '5 سرکاری دن', 'delivery_method': 'کوریئر'}, {'service_name': 'بین الاقوامی ڈرایئونگ لائسنس', 'description': 'شہری پولیس خدمت مرکز سے بین الاقوامی ڈرایئونگ لائسنس کےلئے درخواست جمع کروا سکتے ہیں۔', 'required_documents': ['بین الاقوامی درخواست فارم فایئل کور کے ساتھ', 'شناختی کارڈ کی تصدیق شدہ کاپی', 'لاہور سے حاصل کردہ اصلی ڈرایئونگ لائسنس کی کاپی', 'پاکستانی پاسپورٹ کی کاپی بمع 2 مہینہ کا ویزا', '2 عدد پاسپورٹ سایئز تصویریں (تصدیق شدہ)'], 'processing_fee': {'court': '66 روپے', 'challan': '450 روپے'}, 'processing_time': '5 سرکاری دن', 'delivery_method': 'کوریئر', 'notes': 'درخواست دہندہ اپنا اصلی شناختی کارڈ، ڈرایئونگ لائسنس اور پاسپورٹ ساتھ لاےَ گا/گی۔'}, {'service_name': 'نقل ڈرایئونگ لائسنس', 'description': 'شہری پولیس خدمت مرکز سے نقل ڈرایئونگ لائسنس کےلئے درخواست جمع کروا سکتے ہیں۔', 'required_documents': ['ضروری نقل درخواست فارم', 'شناختی کارڈ کی تصدیق شدہ کاپی', '2 عدد پاسپورٹ سایئز تصویریں', 'کمپیوٹر سیکشن سے کمپیوٹرائزڈ لائسنس رپورٹ', 'پولیس ایف آیَ آر', 'متعلقہ لائسنس کا ٹکٹ'], 'processing_fee': {'motorcycle': '100 روپے', 'car_ltv': '300 روپے', 'htv': '200 روپے'}, 'processing_time': '5 سرکاری دن', 'delivery_method': 'کوریئر'}, {'service_name': 'ملازم کی رجسٹریشن', 'description': 'کسی بھی گھریلو یا دیگر ملازم کو نوکری پر رکھتے وقت اس کا اندراج قریبی پولیس تھانے میں کروانا ہوتا ہے۔', 'required_documents': ['درخواست دہندہ کا اصلی شناختی کارڈ بمع 2 کاپیاں', 'ملازم کے شناختی کارڈ کی 2 کاپیاں', 'ملازم کی 2 عدد پاسپورٹ سایئز تصاویر', 'ایفیڈوڈ بمع 2 گواہوں کی تصدیق'], 'processing_fee': 'مفت', 'processing_time': '15 منٹ', 'delivery_method': 'موقع پر'}, {'service_name': 'کراےَ دار کی رجسٹریشن', 'description': 'گھر یا ہاسٹل کراےَ پر دینے کے لیے پولیس تھانے یا خدمت مرکز میں رجسٹریشن کرانا ضروری ہے۔', 'required_documents': ['مالک مکان کا شناختی کارڈ اور ایک کاپی', 'کراےَ دار کا شناختی کارڈ اور ایک کاپی', 'شٹامپ پیپر پر کراےَ کے معاہدہ کی کاپی'], 'processing_fee': 'مفت', 'processing_time': '15 منٹ', 'delivery_method': 'موقع پر'}, {'service_name': 'گاڑی کی تصدیق', 'description': 'گاڑی کی خرید و فروخت یا نقل و حمل سے قبل گاڑی کی تصدیق ضروری ہے۔', 'required_documents': ['شناختی کارڈ بمع دو کاپیاں', 'گاڑی کے اصل کاغذات اور ایک کاپی', 'گاڑی کے مالک کا کمپیوٹرائزڈ شناختی کارڈ', 'این او سی اگر گاڑی بینک کے نام پر ہے', 'ٹی پی میسج اور ٹرانسفر کاغذات اگر گاڑی بر آمد کی گیَ ہے'], 'processing_fee': {'motorcycle': '500 روپے', 'car_ltv_htv': '2000 روپے'}, 'processing_time': '30 منٹ', 'delivery_method': 'موقع پر'}, {'service_name': 'ڈرائیونگ لائسنس کی توثیق', 'description': 'شہری پولیس خدمت مرکز سے ڈرایئونگ لائسنس کی توثیق کے لئے درخواست جمع کروا سکتے ہیں۔', 'required_documents': ['ضروری درخواست فارم توثیق فایئل کور کے ساتھ', 'میڈیکل رپورٹ', 'شناختی کارڈ کی کاپی', '2 مصدقہ تازہ تصاویر', 'کم سے کم چھ ہفتے کا حقیقی لرنر پرمٹ', 'متعلقہ لائسنس کا ٹکٹ', 'پہلا لائسنس منسلک کیا جائے گا'], 'processing_fee': 'مفت', 'processing_time': '15 منٹ', 'delivery_method': 'موقع پر', 'notes': 'مزید تفصیل کے لئے برائے مہربانی ٹریفک پولیس انکوائری آفس سے رابطہ کریں۔'}, {'service_name': 'گمشدگی رپورٹ', 'description': 'ضروری کاغذات جیسے شناختی کارڈ، ڈرایئونگ لائسنس، اے۔ٹی۔ایم۔ کارڈ، تعلیمی کاغذات اور دوسری اشیاء اکثر گم یا چوری ہو جاتی ہیں۔', 'required_documents': ['درخواست دہندہ کا اصلی شناختی کارڈ بمع 2 کاپیاں', 'گمشدہ دستاویزات کی کاپی اگر موجود ہو', 'کسی بھی امدادی دستاویز کی کاپی'], 'processing_fee': 'مفت', 'processing_time': '15 منٹ', 'delivery_method': 'موقع پر'}, {'service_name': 'جرائم رپورٹ', 'description': 'پولیس خدمت مرکز کسی بھی جرم کی رپورٹ درج کرانے کی سہولت فراہم کرتا ہے۔', 'required_documents': ['درخواست دہندہ کا اصلی شناختی کارڈ اور 2 کاپیاں', 'درخواست دہندہ کی تحریری درخواست اگر موجود ہو'], 'processing_fee': 'مفت', 'processing_time': '15 منٹ', 'delivery_method': 'موقع پر'}, {'service_name': 'خواتین پر تشدد رپورٹ', 'description': 'پولیس خدمت مرکز خواتین پر ہونے والے تشدد کی شکایات کے اندراج اور قانونی معاونت فراہم کرتا ہے۔', 'required_documents': ['درخواست دہندہ کا اصلی شناختی کارڈ اور 2 کاپیاں', 'درخواست دہندہ کی تحریری درخواست اگر موجود ہو'], 'processing_fee': 'مفت', 'processing_time': '15 منٹ', 'delivery_method': 'موقع پر'}, {'service_name': 'ایف۔آئ۔آر۔کی کاپی', 'description': 'شہری کسی بھی پی کے ایم سے اپنی بنیادی معلومات فراہم کر کے ایف آئی آر کی کاپی حاصل کر سکتے ہیں۔', 'required_documents': ['درخواست دہندہ کا اصلی شناختی کارڈ بمع 2 کاپیاں', 'ایف آیَ آر حاصل کرنے کی وجہ', 'ایف آیَ آر نمبر اور پولیس تھانہ'], 'processing_fee': 'مفت', 'processing_time': '15 منٹ', 'delivery_method': 'موقع پر'}]\n",
            "==================================\u001b[1m Ai Message \u001b[0m==================================\n",
            "\n",
            "کریکٹر سرٹیفیکیٹ بنانے کے لیے ضروری دستاویزات میں 3 پاسپورٹ سایز تصاویر (ہلکے نیلے رنگ کا بیک گراوَنڈ، غیر مصدقہ)، شناختی کارڈ اصلی، شناختی کارڈ کی دو کاپیاں (گزیٹیڈ افسر سے مصدقہ)، اصلی پاسپورٹ، پاسپورٹ کی ایک کاپی (گزیٹیڈ افسر سے مصدقہ)، 50 روپیہ کا حلف نامہ (عہدیدار کمشنر سے تصدیق شدہ) اور اختیار نامہ (اگر درخواست دہندہ ملک سے باہر ہے) شامل ہیں۔ کریکٹر سرٹیفیکیٹ کی فیس 500 روپے ہے اور اسے 5 سرکاری دن میں کوریئر کے ذریعے تیار کیا جاتا ہے۔\n",
            "\n",
            "سوال کرنے کا شکریہ!\n"
          ]
        }
      ]
    },
    {
      "cell_type": "markdown",
      "metadata": {
        "id": "SAi97ll6BY2n"
      },
      "source": [
        "\n",
        "\n",
        "---\n",
        "\n"
      ]
    },
    {
      "cell_type": "code",
      "execution_count": null,
      "metadata": {
        "id": "LL8vXMJc7iU1"
      },
      "outputs": [],
      "source": []
    }
  ],
  "metadata": {
    "colab": {
      "provenance": [],
      "authorship_tag": "ABX9TyNgufCOA5tWvVYimSRBo37J",
      "include_colab_link": true
    },
    "kernelspec": {
      "display_name": "Python 3",
      "name": "python3"
    },
    "language_info": {
      "name": "python"
    }
  },
  "nbformat": 4,
  "nbformat_minor": 0
}