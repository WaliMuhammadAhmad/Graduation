{
  "nbformat": 4,
  "nbformat_minor": 0,
  "metadata": {
    "colab": {
      "provenance": [],
      "authorship_tag": "ABX9TyOPhef/tzlvNXgbM9FqtCvm",
      "include_colab_link": true
    },
    "kernelspec": {
      "name": "python3",
      "display_name": "Python 3"
    },
    "language_info": {
      "name": "python"
    }
  },
  "cells": [
    {
      "cell_type": "markdown",
      "metadata": {
        "id": "view-in-github",
        "colab_type": "text"
      },
      "source": [
        "<a href=\"https://colab.research.google.com/github/WaliMuhammadAhmad/7thSemester/blob/main/CVIP/CVIP_Assignment.ipynb\" target=\"_parent\"><img src=\"https://colab.research.google.com/assets/colab-badge.svg\" alt=\"Open In Colab\"/></a>"
      ]
    },
    {
      "cell_type": "code",
      "source": [
        "import cv2"
      ],
      "metadata": {
        "id": "8-LmSBKUljvu"
      },
      "execution_count": 21,
      "outputs": []
    },
    {
      "cell_type": "code",
      "source": [
        "def get_option():\n",
        "    print(\"Choose an option:\")\n",
        "    print(\"1 - Enter grayscale matrix\")\n",
        "    print(\"2 - Enter image path\")\n",
        "    return input(\"Enter your choice (1 or 2): \")"
      ],
      "metadata": {
        "id": "hUFRdW17loNr"
      },
      "execution_count": 22,
      "outputs": []
    },
    {
      "cell_type": "code",
      "source": [
        "def get_matrix():\n",
        "    rows = int(input(\"Enter the number of rows (must be >= 3): \"))\n",
        "    cols = int(input(\"Enter the number of columns (must be >= 3): \"))\n",
        "\n",
        "    matrix = []\n",
        "    print(f\"Enter the values for the {rows}x{cols} matrix (0 and 1 only):\")\n",
        "\n",
        "    for i in range(rows):\n",
        "        row = []  # Initialize a new row\n",
        "        print(f\"Row {i + 1}:\")\n",
        "        for j in range(cols):\n",
        "            while True:\n",
        "                tmp = int(input(f\"Enter the value for index ({i}, {j}): \"))\n",
        "                if tmp != 0 and tmp != 1:\n",
        "                    print(\"Only 0 and 1 are allowed.\")\n",
        "                else:\n",
        "                    row.append(tmp)\n",
        "                    break\n",
        "        matrix.append(row)\n",
        "        print(\"Matrix so far:\")\n",
        "        for r in matrix:\n",
        "            print(r)\n",
        "\n",
        "    return matrix"
      ],
      "metadata": {
        "id": "idAz-QGAlqWq"
      },
      "execution_count": 23,
      "outputs": []
    },
    {
      "cell_type": "code",
      "source": [
        "def load_image(path):\n",
        "    # Load an image from the path and convert to grayscale\n",
        "    image = cv2.imread(path, cv2.IMREAD_GRAYSCALE)\n",
        "    if image is None:\n",
        "        print(\"Failed to load the image. Check the path and try again.\")\n",
        "        return None\n",
        "    return image.tolist()"
      ],
      "metadata": {
        "id": "FGhxBPc2lu25"
      },
      "execution_count": 24,
      "outputs": []
    },
    {
      "cell_type": "code",
      "source": [
        "def connected_component(image, start_pixel, target_intensity, new_color):\n",
        "\n",
        "    rows = len(image)\n",
        "    cols = len(image[0])\n",
        "    x, y = start_pixel\n",
        "\n",
        "    if image[x][y] != target_intensity:\n",
        "        print(\"Starting pixel does not match the target intensity.\")\n",
        "        return image, []\n",
        "\n",
        "    stack = [(x, y)]\n",
        "    points = [(x, y)]\n",
        "    image[x][y] = new_color\n",
        "\n",
        "    neighbors = [(-1, -1), (-1, 0), (-1, 1),\n",
        "                 (0, -1),         (0, 1),\n",
        "                 (1, -1), (1, 0), (1, 1)]\n",
        "\n",
        "    while stack:\n",
        "        cx, cy = stack.pop()\n",
        "        for dx, dy in neighbors:\n",
        "            nx, ny = cx + dx, cy + dy\n",
        "            if 0 <= nx < rows and 0 <= ny < cols and image[nx][ny] == target_intensity:\n",
        "                image[nx][ny] = new_color\n",
        "                stack.append((nx, ny))\n",
        "                points.append((nx, ny))\n",
        "\n",
        "    return image, points"
      ],
      "metadata": {
        "id": "8iqvUz45l4_5"
      },
      "execution_count": 25,
      "outputs": []
    },
    {
      "cell_type": "code",
      "source": [
        "def print_image(image):\n",
        "    for row in image:\n",
        "        print(\" \".join(map(str, row)))"
      ],
      "metadata": {
        "id": "4KUZtU3yl_z4"
      },
      "execution_count": 28,
      "outputs": []
    },
    {
      "cell_type": "code",
      "source": [
        "def main():\n",
        "    choice = get_option()\n",
        "    if choice == '1':\n",
        "        image = get_matrix()\n",
        "        start_x = int(input(\"Enter the starting pixel's row: \"))\n",
        "        start_y = int(input(\"Enter the starting pixel's column: \"))\n",
        "        start_pixel = (start_x, start_y)\n",
        "    elif choice == '2':\n",
        "        path = input(\"Enter the image path: \")\n",
        "        image = load_image(path)\n",
        "        if image is None:\n",
        "            return\n",
        "        start_x = int(input(\"Enter the starting pixel's row: \"))\n",
        "        start_y = int(input(\"Enter the starting pixel's column: \"))\n",
        "        start_pixel = (start_x, start_y)\n",
        "    else:\n",
        "        print(\"Invalid choice.\")\n",
        "        return\n",
        "\n",
        "    target_intensity = int(input(\"Enter the target intensity (0 or 1): \"))\n",
        "    new_color = int(input(\"Enter the new color value (an integer): \"))\n",
        "\n",
        "    processed_image, points = connected_component(image, start_pixel, target_intensity, new_color)\n",
        "\n",
        "    print(\"Processed Image:\")\n",
        "    print_image(processed_image)\n",
        "    print(\"Connected Component Pixels:\", points)"
      ],
      "metadata": {
        "id": "h2aG6MHmRu-p"
      },
      "execution_count": 29,
      "outputs": []
    },
    {
      "cell_type": "code",
      "source": [
        "main()"
      ],
      "metadata": {
        "colab": {
          "base_uri": "https://localhost:8080/"
        },
        "id": "xtJlHi5mVItZ",
        "outputId": "e9486ddd-be81-43f9-a34c-55338cebb150"
      },
      "execution_count": 20,
      "outputs": [
        {
          "output_type": "stream",
          "name": "stdout",
          "text": [
            "Choose an option:\n",
            "1 - Enter grayscale matrix\n",
            "2 - Enter image path\n",
            "Enter your choice (1 or 2): 3\n",
            "Invalid choice.\n"
          ]
        }
      ]
    }
  ]
}