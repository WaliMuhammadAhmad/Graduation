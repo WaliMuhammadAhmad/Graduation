{
 "cells": [
  {
   "cell_type": "markdown",
   "id": "bb2106b4",
   "metadata": {},
   "source": [
    "# Naive Baysian Algorithm"
   ]
  },
  {
   "attachments": {},
   "cell_type": "markdown",
   "id": "31fac073",
   "metadata": {},
   "source": [
    "It is a classification technique based on __Bayes’ Theorem__ with an independence assumption \n",
    "among predictors. A __Naive Bayes__ classifier assumes that the presence of a \n",
    "particular feature in a class is unrelated to the presence of any other feature.\n",
    "\n",
    "Bayes theorem provides a way of computing posterior probability P(c|x) from P(c), P(x) and \n",
    "P(x|c). Look at the equation below:\n",
    "<!-- ![image.png](attachment:image.png) -->\n",
    "\n",
    "**Above,**\n",
    "- P(c|x) is the posterior probability of class (c, target) given predictor (x, attributes).\n",
    "- P(c) is the prior probability of class.\n",
    "- P(x|c) is the likelihood which is the probability of the predictor given class.\n",
    "- P(x) is the prior probability of the predictor."
   ]
  },
  {
   "cell_type": "markdown",
   "id": "3de75582",
   "metadata": {},
   "source": [
    "## Naive Bayse code from Scratch"
   ]
  },
  {
   "cell_type": "code",
   "execution_count": 1,
   "id": "5716cb96",
   "metadata": {},
   "outputs": [],
   "source": [
    "import numpy as np\n",
    "import pandas as pd\n",
    "from sklearn.model_selection import train_test_split \n",
    "from sklearn.metrics import accuracy_score"
   ]
  },
  {
   "cell_type": "markdown",
   "id": "aa1c151e",
   "metadata": {},
   "source": [
    "### Dataset"
   ]
  },
  {
   "cell_type": "code",
   "execution_count": 2,
   "id": "4c9ccc30",
   "metadata": {},
   "outputs": [
    {
     "name": "stdout",
     "output_type": "stream",
     "text": [
      "Loaded Data: \n",
      "      Outlook  Temp Humidity Windy Play\n",
      "0      Rainy   Hot     High     f   no\n",
      "1      Rainy   Hot     High     t   no\n",
      "2   Overcast   Hot     High     f  yes\n",
      "3      Sunny  Mild     High     f  yes\n",
      "4      Sunny  Cool   Normal     f  yes\n",
      "5      Sunny  Cool   Normal     t   no\n",
      "6   Overcast  Cool   Normal     t  yes\n",
      "7      Rainy  Mild     High     f   no\n",
      "8      Rainy  Cool   Normal     f  yes\n",
      "9      Sunny  Mild   Normal     f  yes\n",
      "10     Rainy  Mild   Normal     t  yes\n",
      "11  Overcast  Mild     High     t  yes\n",
      "12  Overcast   Hot   Normal     f  yes\n",
      "13     Sunny  Mild     High     t   no\n",
      "14  Overcast  Cool     High     t   no\n"
     ]
    }
   ],
   "source": [
    "dataset = pd.read_csv('dataset.csv')\n",
    "print(\"Loaded Data: \\n\",dataset)"
   ]
  },
  {
   "cell_type": "code",
   "execution_count": 3,
   "id": "7ff0b796",
   "metadata": {},
   "outputs": [],
   "source": [
    "# Split data into features and labels\n",
    "X = dataset.iloc[:, :-1]\n",
    "y = dataset.iloc[:, -1]\n",
    "\n",
    "# Split data into training dataset and test dataset\n",
    "X_train, X_test, y_train, y_test = train_test_split(X,y, test_size=0.2,random_state=0)"
   ]
  },
  {
   "cell_type": "code",
   "execution_count": 4,
   "id": "9c794627",
   "metadata": {},
   "outputs": [],
   "source": [
    "# Helper function to calculate probabilities\n",
    "def calculate_prob(data,label_column):\n",
    "    prob = {}\n",
    "    labels, counts = np.unique(data[:,label_column],return_counts=True)\n",
    "    total_samples = len(data)\n",
    "    \n",
    "    for label, count in zip(labels, counts):\n",
    "        pro[label] = count/total_samples\n",
    "        \n",
    "    return prob"
   ]
  },
  {
   "cell_type": "code",
   "execution_count": 5,
   "id": "a866aa38",
   "metadata": {},
   "outputs": [],
   "source": [
    "def train_nb(X, y):\n",
    "    unique_labels = np.unique(y)\n",
    "    num_features = X.shape[1]\n",
    "\n",
    "    prob = {}\n",
    "\n",
    "    for label in unique_labels:\n",
    "        label_indices = np.where(y == label)[0]\n",
    "        label_data = X.iloc[label_indices]\n",
    "        prob[label] = []\n",
    "\n",
    "        for i in range(num_features):\n",
    "            feature_values = np.unique(label_data.iloc[:, i])\n",
    "            prob[label].append(feature_values)\n",
    "\n",
    "    return prob"
   ]
  },
  {
   "cell_type": "code",
   "execution_count": 6,
   "id": "740036e9",
   "metadata": {},
   "outputs": [],
   "source": [
    "def predict_nb(instance, prob):\n",
    "    labels = list(prob.keys())\n",
    "    num_features = len(prob[labels[0]])\n",
    "\n",
    "    max_prob = 0\n",
    "    predicted_label = None\n",
    "\n",
    "    for label in labels:\n",
    "        label_prob = prob[label]\n",
    "        instance_prob = 1.0\n",
    "\n",
    "        for i, value in enumerate(instance):\n",
    "            if value in label_prob[i]:\n",
    "                instance_prob *= 1 / len(label_prob[i])\n",
    "            else:\n",
    "                instance_prob = 0\n",
    "\n",
    "        if instance_prob > max_prob:\n",
    "            max_prob = instance_prob\n",
    "            predicted_label = label\n",
    "\n",
    "    return predicted_label"
   ]
  },
  {
   "cell_type": "markdown",
   "id": "9e99eb75",
   "metadata": {},
   "source": [
    "### Train & Test the Naive Bayes "
   ]
  },
  {
   "cell_type": "code",
   "execution_count": 7,
   "id": "c9b317e2",
   "metadata": {},
   "outputs": [
    {
     "name": "stdout",
     "output_type": "stream",
     "text": [
      "The predicted label for the instance ['Sunny', 'Hot', 'High'] is: no\n"
     ]
    }
   ],
   "source": [
    "probabilities = train_nb(X, y)\n",
    "\n",
    "# Example\n",
    "test_instance = pd.Series(['Sunny', 'Hot', 'High'])\n",
    "# Make prediction\n",
    "prediction = predict_nb(test_instance, probabilities)\n",
    "\n",
    "print(f'The predicted label for the instance {test_instance.tolist()} is: {prediction}')"
   ]
  }
 ],
 "metadata": {
  "kernelspec": {
   "display_name": "Python 3 (ipykernel)",
   "language": "python",
   "name": "python3"
  },
  "language_info": {
   "codemirror_mode": {
    "name": "ipython",
    "version": 3
   },
   "file_extension": ".py",
   "mimetype": "text/x-python",
   "name": "python",
   "nbconvert_exporter": "python",
   "pygments_lexer": "ipython3",
   "version": "3.11.4"
  }
 },
 "nbformat": 4,
 "nbformat_minor": 5
}
