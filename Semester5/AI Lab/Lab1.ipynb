{
 "cells": [
  {
   "cell_type": "markdown",
   "id": "0855671b",
   "metadata": {},
   "source": [
    "# Python Basics"
   ]
  },
  {
   "cell_type": "markdown",
   "id": "87b707e8",
   "metadata": {},
   "source": [
    "### Python Data types and print()"
   ]
  },
  {
   "cell_type": "code",
   "execution_count": 7,
   "id": "a145895f",
   "metadata": {},
   "outputs": [
    {
     "name": "stdout",
     "output_type": "stream",
     "text": [
      "AI\n",
      "39\n",
      "6.6\n"
     ]
    }
   ],
   "source": [
    "str = \"AI\"\n",
    "integer = 39\n",
    "float = 6.6\n",
    "\n",
    "print(str)\n",
    "print(integer)\n",
    "print(float)"
   ]
  },
  {
   "cell_type": "markdown",
   "id": "0948a379",
   "metadata": {},
   "source": [
    "### input() & type()"
   ]
  },
  {
   "cell_type": "code",
   "execution_count": 8,
   "id": "2d61e052",
   "metadata": {},
   "outputs": [
    {
     "name": "stdout",
     "output_type": "stream",
     "text": [
      "Enter your name walim\n"
     ]
    },
    {
     "data": {
      "text/plain": [
       "str"
      ]
     },
     "execution_count": 8,
     "metadata": {},
     "output_type": "execute_result"
    }
   ],
   "source": [
    "name = input(\"Enter your name \")\n",
    "type(name)\n"
   ]
  },
  {
   "cell_type": "code",
   "execution_count": 9,
   "id": "8b7279d5",
   "metadata": {},
   "outputs": [
    {
     "name": "stdout",
     "output_type": "stream",
     "text": [
      "Enter a number 1\n"
     ]
    },
    {
     "data": {
      "text/plain": [
       "int"
      ]
     },
     "execution_count": 9,
     "metadata": {},
     "output_type": "execute_result"
    }
   ],
   "source": [
    "integer = int(input(\"Enter a number \"))\n",
    "type(integer)"
   ]
  },
  {
   "cell_type": "markdown",
   "id": "6c5599a5",
   "metadata": {},
   "source": [
    "### Basic Arithmatic Functions on integer"
   ]
  },
  {
   "cell_type": "code",
   "execution_count": 1,
   "id": "19d07dcc",
   "metadata": {},
   "outputs": [
    {
     "name": "stdout",
     "output_type": "stream",
     "text": [
      "Enter a number for a 2\n",
      "Enter a number for b 2.2\n",
      "4.2\n",
      "-0.20000000000000018\n",
      "4.4\n",
      "0.9090909090909091\n"
     ]
    }
   ],
   "source": [
    "a = int(input(\"Enter a number for a \"))\n",
    "b = float(input(\"Enter a number for b \"))\n",
    "print(a+b)\n",
    "print(a-b)\n",
    "print(a*b)\n",
    "print(a/b)"
   ]
  },
  {
   "cell_type": "markdown",
   "id": "f8114d2b",
   "metadata": {},
   "source": [
    "### Conditional Statement *if-else*"
   ]
  },
  {
   "cell_type": "code",
   "execution_count": 2,
   "id": "053373de",
   "metadata": {},
   "outputs": [
    {
     "name": "stdout",
     "output_type": "stream",
     "text": [
      "Enter your name Wali Muhammad\n",
      "Enter your age 19\n",
      "You are eligible\n"
     ]
    }
   ],
   "source": [
    "name = input(\"Enter your name \")\n",
    "age = int(input(\"Enter your age \"))\n",
    "if age > 20:\n",
    "    print(\"You is not eligible\")\n",
    "else:\n",
    "    print('You are eligible')\n",
    "    "
   ]
  },
  {
   "cell_type": "markdown",
   "id": "20029c9f",
   "metadata": {},
   "source": [
    "### Conditional Statement *if-elif*"
   ]
  },
  {
   "cell_type": "code",
   "execution_count": 3,
   "id": "36543260",
   "metadata": {},
   "outputs": [
    {
     "name": "stdout",
     "output_type": "stream",
     "text": [
      "Enter your marks 76\n",
      "B Grade\n"
     ]
    }
   ],
   "source": [
    "marks = int(input(\"Enter your marks \"))\n",
    "\n",
    "if marks > 90:\n",
    "    print(\"A+ Grade\")\n",
    "elif marks > 80:\n",
    "    print(\"A Grade\")\n",
    "elif marks > 70:\n",
    "    print(\"B Grade\")    \n",
    "elif marks > 60:\n",
    "    print(\"C Grade\")\n",
    "elif marks > 50:\n",
    "    print(\"D Grade\")\n",
    "elif marks < 50:\n",
    "    print(\"F Grade\")"
   ]
  },
  {
   "cell_type": "markdown",
   "id": "fcaecbca",
   "metadata": {},
   "source": [
    "### Loops *for loop*"
   ]
  },
  {
   "cell_type": "code",
   "execution_count": 4,
   "id": "dc833f2b",
   "metadata": {},
   "outputs": [
    {
     "name": "stdout",
     "output_type": "stream",
     "text": [
      "Even number  0\n",
      "Even number  2\n",
      "Even number  4\n",
      "Even number  6\n",
      "Even number  8\n",
      "Even number  10\n",
      "Even number  12\n",
      "Even number  14\n",
      "Even number  16\n",
      "Even number  18\n"
     ]
    }
   ],
   "source": [
    "for i in range(20):\n",
    "    if i%2 == 0:\n",
    "        print(\"Even number \",i)"
   ]
  },
  {
   "cell_type": "markdown",
   "id": "7e8803a9",
   "metadata": {},
   "source": [
    "### *for* Loop with *if* statement"
   ]
  },
  {
   "cell_type": "code",
   "execution_count": 5,
   "id": "75c07f8e",
   "metadata": {},
   "outputs": [
    {
     "name": "stdout",
     "output_type": "stream",
     "text": [
      "Enter any string Rebellion\n",
      "Enter any character l\n",
      "This character appears  2  times\n"
     ]
    }
   ],
   "source": [
    "string = input(\"Enter any string \")\n",
    "character = input(\"Enter any character \")\n",
    "num = 0\n",
    "for s in string:\n",
    "    if (s == character):\n",
    "        num+=1\n",
    "    \n",
    "print(\"This character appears \", num, \" times\")"
   ]
  }
 ],
 "metadata": {
  "kernelspec": {
   "display_name": "Python 3 (ipykernel)",
   "language": "python",
   "name": "python3"
  },
  "language_info": {
   "codemirror_mode": {
    "name": "ipython",
    "version": 3
   },
   "file_extension": ".py",
   "mimetype": "text/x-python",
   "name": "python",
   "nbconvert_exporter": "python",
   "pygments_lexer": "ipython3",
   "version": "3.11.4"
  }
 },
 "nbformat": 4,
 "nbformat_minor": 5
}
