{
 "cells": [
  {
   "cell_type": "markdown",
   "id": "9cfdf940",
   "metadata": {},
   "source": [
    "## Task#1\n",
    "\n",
    "Write a program that inputs salary. If salary is greater than or equal to 30000, then deducts 7% of salary. If salary is 20000 or more but less than 30000, then deduct 5% of salary. If salary is less than 20000 then deduct nothing. Print the net salary."
   ]
  },
  {
   "cell_type": "code",
   "execution_count": 1,
   "id": "0b187b6b",
   "metadata": {},
   "outputs": [
    {
     "name": "stdout",
     "output_type": "stream",
     "text": [
      "Enter your salary: 31000\n",
      "Your net salary is:  28830.0\n"
     ]
    }
   ],
   "source": [
    "salary = int(input(\"Enter your salary: \"))\n",
    "\n",
    "if salary >= 30000:\n",
    "    detuct = (salary * 7)/100\n",
    "    net_salary = salary - detuct\n",
    "elif salary > 20000:\n",
    "    detuct = (salary * 5)/100\n",
    "    net_salary = salary - detuct\n",
    "else:\n",
    "    net_salary = salary\n",
    "\n",
    "print(\"Your net salary is: \",net_salary)"
   ]
  },
  {
   "cell_type": "markdown",
   "id": "81420086",
   "metadata": {},
   "source": [
    "## Task#2\n",
    "\n",
    "Raising a number to a power p is the same as multiplying n by itself p times. Write a function called power that takes two arguments, a double value for n and an integer value for p, and return the result as double value. Use default argument of 2 for p, so that if this argument is omitted the number will be squared. Write the main function that gets value from the user to test power function."
   ]
  },
  {
   "cell_type": "code",
   "execution_count": 2,
   "id": "0618d684",
   "metadata": {},
   "outputs": [
    {
     "name": "stdout",
     "output_type": "stream",
     "text": [
      "Enter the base: 5\n",
      "Enter the power: 2\n"
     ]
    },
    {
     "data": {
      "text/plain": [
       "25.0"
      ]
     },
     "execution_count": 2,
     "metadata": {},
     "output_type": "execute_result"
    }
   ],
   "source": [
    "def power(n : float, p = 2):\n",
    "    result = 1\n",
    "    for i in range(0,p):\n",
    "        result *= n\n",
    "    return result\n",
    "base = float(input(\"Enter the base: \"))\n",
    "exp = int(input(\"Enter the power: \"))\n",
    "power(base,exp)"
   ]
  },
  {
   "cell_type": "markdown",
   "id": "9f4f6e34",
   "metadata": {},
   "source": [
    "## Task#3\n",
    "\n",
    "Write a program that lets the user perform arithmetic operations on two numbers. Your program must be menu driven, allowing the user to select the operation (+, -, *, or /) and input the numbers. Furthermore, your program must consist of following functions: \n",
    "1. Function showChoice: This function shows the options to the user and explains how to enter data. \n",
    "2. Function add: This function accepts two number as arguments and returns sum. \n",
    "3. Function subtract: This function accepts two number as arguments and returns their difference. \n",
    "4. Function mulitiply: This function accepts two number as arguments and returns product. 5. Function divide: This function accepts two number as arguments and returns quotient.\n"
   ]
  },
  {
   "cell_type": "code",
   "execution_count": 3,
   "id": "b8e84b15",
   "metadata": {},
   "outputs": [
    {
     "name": "stdout",
     "output_type": "stream",
     "text": [
      "Enter first number: 2\n",
      "Enter second number: 3\n",
      "1. Addition\n",
      "2. Substract\n",
      "3. Multiply\n",
      "4. Division\n",
      "Enter your choice: 1\n",
      "Addition:  5\n",
      "Do you want to try this again ? [n/y] y\n",
      "Enter first number: 6\n",
      "Enter second number: 7\n",
      "1. Addition\n",
      "2. Substract\n",
      "3. Multiply\n",
      "4. Division\n",
      "Enter your choice: 2\n",
      "Substract:  -1\n",
      "Do you want to try this again ? [n/y] n\n"
     ]
    }
   ],
   "source": [
    "def add(num1,num2):\n",
    "    return num1 + num2\n",
    "def substract(num1,num2):\n",
    "    return num1 - num2\n",
    "def multiply(num1,num2):\n",
    "    return num1 * num2\n",
    "def divide(num1,num2):\n",
    "    return num1/num2\n",
    "def showChoice():\n",
    "    print(\"1. Addition\")\n",
    "    print(\"2. Substract\")\n",
    "    print(\"3. Multiply\")\n",
    "    print(\"4. Division\")\n",
    "    choice = input(\"Enter your choice: \")\n",
    "    return choice\n",
    "    \n",
    "while True: \n",
    "    num1 = int(input(\"Enter first number: \"))\n",
    "    num2 = int(input(\"Enter second number: \"))\n",
    "    operator = showChoice()\n",
    "\n",
    "    if operator == '1':\n",
    "        print(\"Addition: \",add(num1,num2))\n",
    "    elif operator == '2':\n",
    "        print(\"Substract: \",substract(num1,num2))\n",
    "    elif operator == '3':\n",
    "        print(\"Multiply: \",multiply(num1,num2))\n",
    "    elif operator == '4':\n",
    "        print(\"Divide: \",divide(num1,num2))\n",
    "    else:\n",
    "        print(\"Enter a valid operation!\")\n",
    "\n",
    "    choice = input(\"Do you want to try this again ? [n/y] \")\n",
    "    if choice == 'n' or choice == 'N':\n",
    "        break"
   ]
  }
 ],
 "metadata": {
  "kernelspec": {
   "display_name": "Python 3 (ipykernel)",
   "language": "python",
   "name": "python3"
  },
  "language_info": {
   "codemirror_mode": {
    "name": "ipython",
    "version": 3
   },
   "file_extension": ".py",
   "mimetype": "text/x-python",
   "name": "python",
   "nbconvert_exporter": "python",
   "pygments_lexer": "ipython3",
   "version": "3.11.4"
  }
 },
 "nbformat": 4,
 "nbformat_minor": 5
}
