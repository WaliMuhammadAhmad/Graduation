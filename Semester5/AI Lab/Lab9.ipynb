{
 "cells": [
  {
   "cell_type": "markdown",
   "id": "1f8c5fb3",
   "metadata": {},
   "source": [
    "# Min-Max & Apha-Beta Pruning Algorithm"
   ]
  },
  {
   "cell_type": "markdown",
   "id": "4ace4141",
   "metadata": {},
   "source": [
    "## Implementation"
   ]
  },
  {
   "cell_type": "code",
   "execution_count": 24,
   "id": "c9ab5b8e",
   "metadata": {},
   "outputs": [],
   "source": [
    "class TreeNode:\n",
    "    def __init__(self, value):\n",
    "        self.value = value\n",
    "        self.children = []\n",
    "\n",
    "def minimax(node, depth, maximizing_player):\n",
    "    if depth == 0 or not node.children:\n",
    "        return node.value\n",
    "    \n",
    "    if maximizing_player:\n",
    "        max_eval = float('-inf')\n",
    "        for child in node.children:\n",
    "            eval = minimax(child, depth - 1, False)\n",
    "            max_eval = max(max_eval, eval)\n",
    "        return max_eval\n",
    "    else:\n",
    "        min_eval = float('inf')\n",
    "        for child in node.children:\n",
    "            eval = minimax(child, depth - 1, True)\n",
    "            min_eval = min(min_eval, eval)\n",
    "        return min_eval\n",
    "\n",
    "def alpha_beta(node, depth, alpha, beta, maximizing_player):\n",
    "    if depth == 0 or not node.children:\n",
    "        return node.value\n",
    "    \n",
    "    if maximizing_player:\n",
    "        max_eval = float('-inf')\n",
    "        for child in node.children:\n",
    "            eval = alpha_beta(child, depth - 1, alpha, beta, False)\n",
    "            max_eval = max(max_eval, eval)\n",
    "            alpha = max(alpha, eval)\n",
    "            if beta <= alpha:\n",
    "                break  # Beta cut-off\n",
    "        return max_eval\n",
    "    else:\n",
    "        min_eval = float('inf')\n",
    "        for child in node.children:\n",
    "            eval = alpha_beta(child, depth - 1, alpha, beta, True)\n",
    "            min_eval = min(min_eval, eval)\n",
    "            beta = min(beta, eval)\n",
    "            if beta <= alpha:\n",
    "                break  # Alpha cut-off\n",
    "        return min_eval"
   ]
  },
  {
   "cell_type": "markdown",
   "id": "c2500867",
   "metadata": {},
   "source": [
    "### Creating Tree & Assigning values"
   ]
  },
  {
   "cell_type": "code",
   "execution_count": 25,
   "id": "9c5aa8e1",
   "metadata": {},
   "outputs": [],
   "source": [
    "# Creating Nodes and & assigning values\n",
    "root = TreeNode(1)\n",
    "node1 = TreeNode(3)\n",
    "node2 = TreeNode(-4)\n",
    "node3 = TreeNode(2)\n",
    "node4 = TreeNode(5)\n",
    "node5 = TreeNode(-4)\n",
    "node6 = TreeNode(9)\n",
    "node7 = TreeNode(-1)\n",
    "node8 = TreeNode(7)\n",
    "node9 = TreeNode(5)\n",
    "node10 = TreeNode(1)\n",
    "node11 = TreeNode(6)\n",
    "node12 = TreeNode(-4)\n",
    "node13 = TreeNode(0)\n",
    "node14 = TreeNode(8)\n",
    "# Making tree\n",
    "root.children = [node1, node2]\n",
    "node1.children = [node3, node4]\n",
    "node2.children = [node5, node6]\n",
    "node3.children = [node7, node8]\n",
    "node4.children = [node9, node10]\n",
    "node5.children = [node11, node12]\n",
    "node6.children = [node13, node14]"
   ]
  },
  {
   "cell_type": "code",
   "execution_count": 26,
   "id": "3fbb30ff",
   "metadata": {},
   "outputs": [
    {
     "name": "stdout",
     "output_type": "stream",
     "text": [
      "Best Value using min-max algo:  6\n"
     ]
    }
   ],
   "source": [
    "# Min-Max Algorithm\n",
    "min_max = minimax(root, depth=4, maximizing_player=True)\n",
    "print(\"Best Value using min-max algo: \", min_max)"
   ]
  },
  {
   "cell_type": "code",
   "execution_count": 27,
   "id": "ab34ab83",
   "metadata": {},
   "outputs": [
    {
     "name": "stdout",
     "output_type": "stream",
     "text": [
      "Best value using alpha-beta pruning: 6\n"
     ]
    }
   ],
   "source": [
    "# Alpha-Beta Algo\n",
    "alphabeta = alpha_beta(root, depth=3, alpha=-float('inf'), beta=float('inf'), maximizing_player=True)\n",
    "print(\"Best value using alpha-beta pruning:\",alphabeta)"
   ]
  },
  {
   "cell_type": "code",
   "execution_count": null,
   "id": "c566416b",
   "metadata": {},
   "outputs": [],
   "source": []
  }
 ],
 "metadata": {
  "kernelspec": {
   "display_name": "Python 3 (ipykernel)",
   "language": "python",
   "name": "python3"
  },
  "language_info": {
   "codemirror_mode": {
    "name": "ipython",
    "version": 3
   },
   "file_extension": ".py",
   "mimetype": "text/x-python",
   "name": "python",
   "nbconvert_exporter": "python",
   "pygments_lexer": "ipython3",
   "version": "3.11.4"
  }
 },
 "nbformat": 4,
 "nbformat_minor": 5
}
