{
 "cells": [
  {
   "cell_type": "markdown",
   "id": "40ed056d",
   "metadata": {},
   "source": [
    "# Task1\n",
    "\n",
    "Create a class of student and enter its name and roll number"
   ]
  },
  {
   "cell_type": "code",
   "execution_count": 1,
   "id": "43829c3d",
   "metadata": {},
   "outputs": [
    {
     "name": "stdout",
     "output_type": "stream",
     "text": [
      "Enter the name: Rebellion\n",
      "Enter the roll number: 39\n",
      "Student name:  Rebellion\n",
      "Student Roll Number:  39\n"
     ]
    }
   ],
   "source": [
    "class Student():\n",
    "    def __init__(self,n,r):\n",
    "        self.name = n\n",
    "        self.rollno = r\n",
    "    def display(self):\n",
    "        print(\"Student name: \",self.name)\n",
    "        print(\"Student Roll Number: \",self.rollno)        \n",
    "        \n",
    "\n",
    "std_name = input(\"Enter the name: \")\n",
    "std_no = input(\"Enter the roll number: \")\n",
    "std = Student(std_name,std_no)\n",
    "std.display()"
   ]
  },
  {
   "cell_type": "markdown",
   "id": "f30d5a22",
   "metadata": {},
   "source": [
    "# Stack"
   ]
  },
  {
   "cell_type": "code",
   "execution_count": 2,
   "id": "e76a1d91",
   "metadata": {},
   "outputs": [
    {
     "name": "stdout",
     "output_type": "stream",
     "text": [
      "Item  1  pushed\n",
      "Item  3  pushed\n",
      "Item  5  pushed\n",
      "[1, 3, 5]\n",
      "Item poped\n",
      "[1, 3]\n"
     ]
    }
   ],
   "source": [
    "def create_stack():\n",
    "    stack = []\n",
    "    return stack\n",
    "def check_empty(stack):\n",
    "    return len(stack) == 0\n",
    "def push(stack,item):\n",
    "    stack.append(item)\n",
    "    print(\"Item \",item,\" pushed\")\n",
    "def pop(stack):\n",
    "    if (check_empty(stack)):\n",
    "        return \"Stack is empty\"\n",
    "    else:\n",
    "        stack.pop()\n",
    "        print(\"Item poped\")\n",
    "        \n",
    "stack = create_stack()\n",
    "push(stack, 1)\n",
    "push(stack, 3)\n",
    "push(stack, 5)\n",
    "print(stack)\n",
    "pop(stack)\n",
    "print(stack)"
   ]
  },
  {
   "cell_type": "markdown",
   "id": "de6fc0f3",
   "metadata": {},
   "source": [
    "# Stack class implementation"
   ]
  },
  {
   "cell_type": "code",
   "execution_count": 3,
   "id": "e1f6b9ef",
   "metadata": {},
   "outputs": [
    {
     "name": "stdout",
     "output_type": "stream",
     "text": [
      "[10, 7, 5, 1, 3]\n",
      "[10, 7, 5, 1]\n"
     ]
    }
   ],
   "source": [
    "class Stack():\n",
    "    def __init__(self):\n",
    "        self.stack = []\n",
    "    def push(self,item):\n",
    "        self.stack.append(item)\n",
    "    def pop(self):\n",
    "        if len(self.stack) < 1:\n",
    "            return None\n",
    "        return self.stack.pop()\n",
    "    def display(self):\n",
    "        print(self.stack)\n",
    "    def size(self):\n",
    "        return len(self.stack)\n",
    "    def decending(self):\n",
    "        self.stack.sort(reverse = True)\n",
    "\n",
    "s = Stack()\n",
    "s.push(10)\n",
    "s.push(7)\n",
    "s.push(5)\n",
    "s.push(1)\n",
    "s.push(3)\n",
    "s.display()\n",
    "s.pop()\n",
    "s.display()"
   ]
  },
  {
   "cell_type": "markdown",
   "id": "9bcdef51",
   "metadata": {},
   "source": [
    "# Sort"
   ]
  },
  {
   "cell_type": "code",
   "execution_count": 4,
   "id": "f08e333f",
   "metadata": {},
   "outputs": [
    {
     "name": "stdout",
     "output_type": "stream",
     "text": [
      "[10, 30, 1, 50, 40, 20]\n",
      "[50, 40, 30, 20, 10, 1]\n"
     ]
    }
   ],
   "source": [
    "srt = Stack()\n",
    "srt.push(10)\n",
    "srt.push(30)\n",
    "srt.push(1)\n",
    "srt.push(50)\n",
    "srt.push(40)\n",
    "srt.push(20)\n",
    "srt.display()\n",
    "srt.decending()\n",
    "srt.display()"
   ]
  },
  {
   "cell_type": "markdown",
   "id": "a8e3b010",
   "metadata": {},
   "source": [
    "# Queue"
   ]
  },
  {
   "cell_type": "code",
   "execution_count": 5,
   "id": "7bbb669e",
   "metadata": {},
   "outputs": [
    {
     "name": "stdout",
     "output_type": "stream",
     "text": [
      "Item  5  enqueued\n",
      "Item  9  enqueued\n",
      "Item  3  enqueued\n",
      "Item  1  enqueued\n",
      "Item  7  enqueued\n",
      "[5, 9, 3, 1, 7]\n",
      "Dequeued\n",
      "[9, 3, 1, 7]\n"
     ]
    }
   ],
   "source": [
    "def create_queue():\n",
    "    queue = []\n",
    "    return queue\n",
    "def check_empty(queue):\n",
    "    return len(queue) == 0\n",
    "def enqueue(queue,item):\n",
    "    queue.append(item)\n",
    "    print(\"Item \",item,\" enqueued\")\n",
    "def dequeue(queue):\n",
    "    if (check_empty(queue)):\n",
    "        return \"Queue is empty\"\n",
    "    else:\n",
    "        queue.pop(0)\n",
    "        print(\"Dequeued\")\n",
    "        \n",
    "def display(queue):\n",
    "    print(queue)\n",
    "    \n",
    "q = create_queue()\n",
    "enqueue(q,5)\n",
    "enqueue(q,9)\n",
    "enqueue(q,3)\n",
    "enqueue(q,1)\n",
    "enqueue(q,7)\n",
    "display(q)\n",
    "dequeue(q)\n",
    "display(q)"
   ]
  },
  {
   "cell_type": "markdown",
   "id": "99b00dec",
   "metadata": {},
   "source": [
    "#  Search element in Queue"
   ]
  },
  {
   "cell_type": "code",
   "execution_count": 6,
   "id": "f3de7298",
   "metadata": {},
   "outputs": [
    {
     "name": "stdout",
     "output_type": "stream",
     "text": [
      "Enter the number: 1\n",
      "Number  1  found\n"
     ]
    }
   ],
   "source": [
    "def search(queue,no):\n",
    "    if (no in queue):\n",
    "        print(\"Number \",item,\" found\")\n",
    "    else:\n",
    "        print(\"Number not found\")\n",
    "            \n",
    "item = int(input(\"Enter the number: \"))\n",
    "search(q,item)"
   ]
  }
 ],
 "metadata": {
  "kernelspec": {
   "display_name": "Python 3 (ipykernel)",
   "language": "python",
   "name": "python3"
  },
  "language_info": {
   "codemirror_mode": {
    "name": "ipython",
    "version": 3
   },
   "file_extension": ".py",
   "mimetype": "text/x-python",
   "name": "python",
   "nbconvert_exporter": "python",
   "pygments_lexer": "ipython3",
   "version": "3.11.4"
  }
 },
 "nbformat": 4,
 "nbformat_minor": 5
}
